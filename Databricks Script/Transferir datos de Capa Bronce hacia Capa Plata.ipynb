{
 "cells": [
  {
   "cell_type": "code",
   "execution_count": 0,
   "metadata": {
    "application/vnd.databricks.v1+cell": {
     "cellMetadata": {
      "byteLimit": 2048000,
      "rowLimit": 10000
     },
     "inputWidgets": {},
     "nuid": "62ca310a-8d7d-49d8-861d-520b898bf6fa",
     "showTitle": false,
     "title": ""
    }
   },
   "outputs": [
    {
     "output_type": "display_data",
     "data": {
      "text/html": [
       "<style scoped>\n",
       "  .ansiout {\n",
       "    display: block;\n",
       "    unicode-bidi: embed;\n",
       "    white-space: pre-wrap;\n",
       "    word-wrap: break-word;\n",
       "    word-break: break-all;\n",
       "    font-family: \"Menlo\", \"Monaco\", \"Consolas\", \"Ubuntu Mono\", \"Source Code Pro\", monospace;\n",
       "    font-size: 13px;\n",
       "    color: #555;\n",
       "    margin-left: 4px;\n",
       "    line-height: 19px;\n",
       "  }\n",
       "</style>\n",
       "<div class=\"ansiout\">storageAccount: String = julioac\n",
       "container: String = julioac\n",
       "sasKey: String = sv=2022-11-02&amp;ss=bfqt&amp;srt=sco&amp;sp=rwdlacupyx&amp;se=2024-05-28T09:41:18Z&amp;st=2024-05-21T01:41:18Z&amp;spr=https&amp;sig=uT0hFKP7bECpPGle7AUunVD7Vz0i8dKGPG9BBQUBmes%3D\n",
       "conf: String = fs.azure.sas.julioac.julioac.blob.core.windows.net\n",
       "res5: Boolean = true\n",
       "</div>"
      ]
     },
     "metadata": {
      "application/vnd.databricks.v1+output": {
       "addedWidgets": {},
       "arguments": {},
       "data": "<div class=\"ansiout\">storageAccount: String = julioac\ncontainer: String = julioac\nsasKey: String = sv=2022-11-02&amp;ss=bfqt&amp;srt=sco&amp;sp=rwdlacupyx&amp;se=2024-05-28T09:41:18Z&amp;st=2024-05-21T01:41:18Z&amp;spr=https&amp;sig=uT0hFKP7bECpPGle7AUunVD7Vz0i8dKGPG9BBQUBmes%3D\nconf: String = fs.azure.sas.julioac.julioac.blob.core.windows.net\nres5: Boolean = true\n</div>",
       "datasetInfos": [],
       "metadata": {
        "isDbfsCommandResult": false
       },
       "removedWidgets": [],
       "type": "html"
      }
     },
     "output_type": "display_data"
    }
   ],
   "source": [
    "%scala\n",
    "val storageAccount = \"julioac\"\n",
    "val container = \"julioac\"\n",
    "val sasKey = \"sv=2022-11-02&ss=bfqt&srt=sco&sp=rwdlacupyx&se=2024-05-28T09:41:18Z&st=2024-05-21T01:41:18Z&spr=https&sig=uT0hFKP7bECpPGle7AUunVD7Vz0i8dKGPG9BBQUBmes%3D\"\n",
    "\n",
    "val conf= \"fs.azure.sas.\"+container+\".\"+storageAccount+ \".blob.core.windows.net\"\n",
    "\n",
    "dbutils.fs.mount(source=\"wasbs://\" + container + \"@\" + storageAccount + \".blob.core.windows.net\", mountPoint=\"/mnt/\" + container, extraConfigs = Map(conf -> sasKey))"
   ]
  },
  {
   "cell_type": "code",
   "execution_count": 0,
   "metadata": {
    "application/vnd.databricks.v1+cell": {
     "cellMetadata": {
      "byteLimit": 2048000,
      "rowLimit": 10000
     },
     "inputWidgets": {},
     "nuid": "01e39eea-7fd3-4044-9cc2-8fe2e8bc9ad4",
     "showTitle": false,
     "title": ""
    }
   },
   "outputs": [
    {
     "output_type": "display_data",
     "data": {
      "text/html": [
       "<style scoped>\n",
       "  .table-result-container {\n",
       "    max-height: 300px;\n",
       "    overflow: auto;\n",
       "  }\n",
       "  table, th, td {\n",
       "    border: 1px solid black;\n",
       "    border-collapse: collapse;\n",
       "  }\n",
       "  th, td {\n",
       "    padding: 5px;\n",
       "  }\n",
       "  th {\n",
       "    text-align: left;\n",
       "  }\n",
       "</style><div class='table-result-container'><table class='table-result'><thead style='background-color: white'><tr><th>path</th><th>name</th><th>size</th><th>modificationTime</th></tr></thead><tbody><tr><td>dbfs:/mnt/julioac/proyectofinal/capabronce/</td><td>capabronce/</td><td>0</td><td>0</td></tr><tr><td>dbfs:/mnt/julioac/proyectofinal/capaoro/</td><td>capaoro/</td><td>0</td><td>0</td></tr><tr><td>dbfs:/mnt/julioac/proyectofinal/capaplata/</td><td>capaplata/</td><td>0</td><td>0</td></tr></tbody></table></div>"
      ]
     },
     "metadata": {
      "application/vnd.databricks.v1+output": {
       "addedWidgets": {},
       "aggData": [],
       "aggError": "",
       "aggOverflow": false,
       "aggSchema": [],
       "aggSeriesLimitReached": false,
       "aggType": "",
       "arguments": {},
       "columnCustomDisplayInfos": {},
       "data": [
        [
         "dbfs:/mnt/julioac/proyectofinal/capabronce/",
         "capabronce/",
         0,
         0
        ],
        [
         "dbfs:/mnt/julioac/proyectofinal/capaoro/",
         "capaoro/",
         0,
         0
        ],
        [
         "dbfs:/mnt/julioac/proyectofinal/capaplata/",
         "capaplata/",
         0,
         0
        ]
       ],
       "datasetInfos": [],
       "dbfsResultPath": null,
       "isJsonSchema": true,
       "metadata": {
        "isDbfsCommandResult": false
       },
       "overflow": false,
       "plotOptions": {
        "customPlotOptions": {},
        "displayType": "table",
        "pivotAggregation": null,
        "pivotColumns": null,
        "xColumns": null,
        "yColumns": null
       },
       "removedWidgets": [],
       "schema": [
        {
         "metadata": "{}",
         "name": "path",
         "type": "\"string\""
        },
        {
         "metadata": "{}",
         "name": "name",
         "type": "\"string\""
        },
        {
         "metadata": "{}",
         "name": "size",
         "type": "\"long\""
        },
        {
         "metadata": "{}",
         "name": "modificationTime",
         "type": "\"long\""
        }
       ],
       "type": "table"
      }
     },
     "output_type": "display_data"
    }
   ],
   "source": [
    "%fs ls /mnt/julioac/proyectofinal/\n"
   ]
  },
  {
   "cell_type": "code",
   "execution_count": 0,
   "metadata": {
    "application/vnd.databricks.v1+cell": {
     "cellMetadata": {
      "byteLimit": 2048000,
      "rowLimit": 10000
     },
     "inputWidgets": {},
     "nuid": "a1aa40fa-f69f-4322-9d71-83a2190347a7",
     "showTitle": false,
     "title": ""
    }
   },
   "outputs": [
    {
     "output_type": "stream",
     "name": "stdout",
     "output_type": "stream",
     "text": [
      "[Truncated to first 233 bytes]\n"
     ]
    },
    {
     "output_type": "execute_result",
     "data": {
      "text/plain": [
       "'Cod_Producto|Nombre|Cod_SubCategoria|Color\\r\\n212|Casco deportivo: 100, rojo|31|Red\\r\\n213|Casco deportivo: 100, rojo|31|Red\\r\\n214|Casco deportivo: 100, rojo|31|Red\\r\\n215|Casco deportivo: 100, negro|31|Black\\r\\n216|Casco deportivo: 100, negr'"
      ]
     },
     "execution_count": 11,
     "metadata": {},
     "output_type": "execute_result"
    }
   ],
   "source": [
    "dbutils.fs.head(\"/mnt/julioac/proyectofinal/capabronce/Producto.csv\",233)"
   ]
  },
  {
   "cell_type": "code",
   "execution_count": 0,
   "metadata": {
    "application/vnd.databricks.v1+cell": {
     "cellMetadata": {
      "byteLimit": 2048000,
      "implicitDf": true,
      "rowLimit": 10000
     },
     "inputWidgets": {},
     "nuid": "2ff363ae-838b-446a-ad71-7f21c203dd54",
     "showTitle": false,
     "title": ""
    }
   },
   "outputs": [
    {
     "output_type": "display_data",
     "data": {
      "text/html": [
       "<style scoped>\n",
       "  .table-result-container {\n",
       "    max-height: 300px;\n",
       "    overflow: auto;\n",
       "  }\n",
       "  table, th, td {\n",
       "    border: 1px solid black;\n",
       "    border-collapse: collapse;\n",
       "  }\n",
       "  th, td {\n",
       "    padding: 5px;\n",
       "  }\n",
       "  th {\n",
       "    text-align: left;\n",
       "  }\n",
       "</style><div class='table-result-container'><table class='table-result'><thead style='background-color: white'><tr></tr></thead><tbody></tbody></table></div>"
      ]
     },
     "metadata": {
      "application/vnd.databricks.v1+output": {
       "addedWidgets": {},
       "aggData": [],
       "aggError": "",
       "aggOverflow": false,
       "aggSchema": [],
       "aggSeriesLimitReached": false,
       "aggType": "",
       "arguments": {},
       "columnCustomDisplayInfos": {},
       "data": [],
       "datasetInfos": [],
       "dbfsResultPath": null,
       "isJsonSchema": true,
       "metadata": {
        "dataframeName": null
       },
       "overflow": false,
       "plotOptions": {
        "customPlotOptions": {},
        "displayType": "table",
        "pivotAggregation": null,
        "pivotColumns": null,
        "xColumns": null,
        "yColumns": null
       },
       "removedWidgets": [],
       "schema": [],
       "type": "table"
      }
     },
     "output_type": "display_data"
    }
   ],
   "source": [
    "%sql\n",
    "DROP TABLE IF EXISTS Producto;\n",
    "\n",
    "CREATE TABLE Producto\n",
    "(Cod_Producto STRING,Nombre STRING, Cod_SubCategoria STRING,Color STRING)\n",
    "USING CSV\n",
    "OPTIONS (header 'true', inferSchema 'true', delimiter '|')\n",
    "LOCATION \"/mnt/julioac/proyectofinal/capabronce/Producto.csv\""
   ]
  },
  {
   "cell_type": "code",
   "execution_count": 0,
   "metadata": {
    "application/vnd.databricks.v1+cell": {
     "cellMetadata": {
      "byteLimit": 2048000,
      "implicitDf": true,
      "rowLimit": 10000
     },
     "inputWidgets": {},
     "nuid": "cdab2e45-a8eb-461a-baaa-65de2bb5a2a0",
     "showTitle": false,
     "title": ""
    }
   },
   "outputs": [
    {
     "output_type": "display_data",
     "data": {
      "text/html": [
       "<style scoped>\n",
       "  .table-result-container {\n",
       "    max-height: 300px;\n",
       "    overflow: auto;\n",
       "  }\n",
       "  table, th, td {\n",
       "    border: 1px solid black;\n",
       "    border-collapse: collapse;\n",
       "  }\n",
       "  th, td {\n",
       "    padding: 5px;\n",
       "  }\n",
       "  th {\n",
       "    text-align: left;\n",
       "  }\n",
       "</style><div class='table-result-container'><table class='table-result'><thead style='background-color: white'><tr><th>Cod_Producto</th><th>Nombre</th><th>Cod_SubCategoria</th><th>Color</th></tr></thead><tbody><tr><td>212</td><td>Casco deportivo: 100, rojo</td><td>31</td><td>Red</td></tr><tr><td>213</td><td>Casco deportivo: 100, rojo</td><td>31</td><td>Red</td></tr><tr><td>214</td><td>Casco deportivo: 100, rojo</td><td>31</td><td>Red</td></tr><tr><td>215</td><td>Casco deportivo: 100, negro</td><td>31</td><td>Black</td></tr><tr><td>216</td><td>Casco deportivo: 100, negro</td><td>31</td><td>Black</td></tr><tr><td>217</td><td>Casco deportivo: 100, negro</td><td>31</td><td>Black</td></tr><tr><td>218</td><td>Calcetines para bicicleta de monta�a, M</td><td>23</td><td>White</td></tr><tr><td>219</td><td>Calcetines para bicicleta de monta�a, G</td><td>23</td><td>White</td></tr><tr><td>220</td><td>Casco deportivo: 100, azul</td><td>31</td><td>Blue</td></tr><tr><td>221</td><td>Casco deportivo: 100, azul</td><td>31</td><td>Blue</td></tr><tr><td>222</td><td>Casco deportivo: 100, azul</td><td>31</td><td>Blue</td></tr><tr><td>226</td><td>Jersey con logotipo de manga larga, P</td><td>21</td><td>Multi</td></tr><tr><td>227</td><td>Jersey con logotipo de manga larga, P</td><td>21</td><td>Multi</td></tr><tr><td>228</td><td>Jersey con logotipo de manga larga, P</td><td>21</td><td>Multi</td></tr><tr><td>229</td><td>Jersey con logotipo de manga larga, M</td><td>21</td><td>Multi</td></tr><tr><td>230</td><td>Jersey con logotipo de manga larga, M</td><td>21</td><td>Multi</td></tr><tr><td>231</td><td>Jersey con logotipo de manga larga, M</td><td>21</td><td>Multi</td></tr><tr><td>232</td><td>Jersey con logotipo de manga larga, G</td><td>21</td><td>Multi</td></tr><tr><td>233</td><td>Jersey con logotipo de manga larga, G</td><td>21</td><td>Multi</td></tr><tr><td>234</td><td>Jersey con logotipo de manga larga, G</td><td>21</td><td>Multi</td></tr><tr><td>235</td><td>Jersey con logotipo de manga larga, SG</td><td>21</td><td>Multi</td></tr><tr><td>236</td><td>Jersey con logotipo de manga larga, SG</td><td>21</td><td>Multi</td></tr><tr><td>237</td><td>Jersey con logotipo de manga larga, SG</td><td>21</td><td>Multi</td></tr><tr><td>238</td><td>Cuadro de carretera GA: rojo, 62</td><td>14</td><td>Red</td></tr><tr><td>239</td><td>Cuadro de carretera GA: rojo, 62</td><td>14</td><td>Red</td></tr><tr><td>240</td><td>Cuadro de carretera GA: rojo, 62</td><td>14</td><td>Red</td></tr><tr><td>241</td><td>Cuadro de carretera GA: rojo, 44</td><td>14</td><td>Red</td></tr><tr><td>242</td><td>Cuadro de carretera GA: rojo, 44</td><td>14</td><td>Red</td></tr><tr><td>243</td><td>Cuadro de carretera GA: rojo, 44</td><td>14</td><td>Red</td></tr><tr><td>244</td><td>Cuadro de carretera GA: rojo, 48</td><td>14</td><td>Red</td></tr><tr><td>245</td><td>Cuadro de carretera GA: rojo, 48</td><td>14</td><td>Red</td></tr><tr><td>246</td><td>Cuadro de carretera GA: rojo, 48</td><td>14</td><td>Red</td></tr><tr><td>247</td><td>Cuadro de carretera GA: rojo, 52</td><td>14</td><td>Red</td></tr><tr><td>248</td><td>Cuadro de carretera GA: rojo, 52</td><td>14</td><td>Red</td></tr><tr><td>249</td><td>Cuadro de carretera GA: rojo, 52</td><td>14</td><td>Red</td></tr><tr><td>250</td><td>Cuadro de carretera GA: rojo, 56</td><td>14</td><td>Red</td></tr><tr><td>251</td><td>Cuadro de carretera GA: rojo, 56</td><td>14</td><td>Red</td></tr><tr><td>252</td><td>Cuadro de carretera GA: rojo, 56</td><td>14</td><td>Red</td></tr><tr><td>253</td><td>Cuadro de carretera GB: negro, 58</td><td>14</td><td>Black</td></tr><tr><td>254</td><td>Cuadro de carretera GB: negro, 58</td><td>14</td><td>Black</td></tr><tr><td>255</td><td>Cuadro de carretera GB: negro, 58</td><td>14</td><td>Black</td></tr><tr><td>256</td><td>Cuadro de carretera GB: negro, 60</td><td>14</td><td>Black</td></tr><tr><td>257</td><td>Cuadro de carretera GB: negro, 60</td><td>14</td><td>Black</td></tr><tr><td>258</td><td>Cuadro de carretera GB: negro, 60</td><td>14</td><td>Black</td></tr><tr><td>259</td><td>Cuadro de carretera GB: negro, 62</td><td>14</td><td>Black</td></tr><tr><td>260</td><td>Cuadro de carretera GB: negro, 62</td><td>14</td><td>Black</td></tr><tr><td>261</td><td>Cuadro de carretera GB: negro, 62</td><td>14</td><td>Black</td></tr><tr><td>262</td><td>Cuadro de carretera GB: rojo, 44</td><td>14</td><td>Red</td></tr><tr><td>263</td><td>Cuadro de carretera GB: rojo, 44</td><td>14</td><td>Red</td></tr><tr><td>264</td><td>Cuadro de carretera GB: rojo, 48</td><td>14</td><td>Red</td></tr><tr><td>265</td><td>Cuadro de carretera GB: rojo, 48</td><td>14</td><td>Red</td></tr><tr><td>266</td><td>Cuadro de carretera GB: rojo, 52</td><td>14</td><td>Red</td></tr><tr><td>267</td><td>Cuadro de carretera GB: rojo, 52</td><td>14</td><td>Red</td></tr><tr><td>268</td><td>Cuadro de carretera GB: rojo, 58</td><td>14</td><td>Red</td></tr><tr><td>269</td><td>Cuadro de carretera GB: rojo, 58</td><td>14</td><td>Red</td></tr><tr><td>270</td><td>Cuadro de carretera GB: rojo, 60</td><td>14</td><td>Red</td></tr><tr><td>271</td><td>Cuadro de carretera GB: rojo, 60</td><td>14</td><td>Red</td></tr><tr><td>272</td><td>Cuadro de carretera GB: rojo, 62</td><td>14</td><td>Red</td></tr><tr><td>273</td><td>Cuadro de carretera GB: rojo, 62</td><td>14</td><td>Red</td></tr><tr><td>274</td><td>Cuadro de carretera GM: rojo, 44</td><td>14</td><td>Red</td></tr><tr><td>275</td><td>Cuadro de carretera GM: rojo, 48</td><td>14</td><td>Red</td></tr><tr><td>276</td><td>Cuadro de carretera GM: rojo, 52</td><td>14</td><td>Red</td></tr><tr><td>277</td><td>Cuadro de carretera GM: rojo, 58</td><td>14</td><td>Red</td></tr><tr><td>278</td><td>Cuadro de carretera GM: rojo, 60</td><td>14</td><td>Red</td></tr><tr><td>279</td><td>Cuadro de carretera GB: negro, 44</td><td>14</td><td>Black</td></tr><tr><td>280</td><td>Cuadro de carretera GB: negro, 44</td><td>14</td><td>Black</td></tr><tr><td>281</td><td>Cuadro de carretera GB: negro, 44</td><td>14</td><td>Black</td></tr><tr><td>282</td><td>Cuadro de carretera GB: negro, 48</td><td>14</td><td>Black</td></tr><tr><td>283</td><td>Cuadro de carretera GB: negro, 48</td><td>14</td><td>Black</td></tr><tr><td>284</td><td>Cuadro de carretera GB: negro, 48</td><td>14</td><td>Black</td></tr><tr><td>285</td><td>Cuadro de carretera GB: negro, 52</td><td>14</td><td>Black</td></tr><tr><td>286</td><td>Cuadro de carretera GB: negro, 52</td><td>14</td><td>Black</td></tr><tr><td>287</td><td>Cuadro de carretera GB: negro, 52</td><td>14</td><td>Black</td></tr><tr><td>310</td><td>Carretera: 150, roja, 62</td><td>2</td><td>Red</td></tr><tr><td>311</td><td>Carretera: 150, roja, 44</td><td>2</td><td>Red</td></tr><tr><td>312</td><td>Carretera: 150, roja, 48</td><td>2</td><td>Red</td></tr><tr><td>313</td><td>Carretera: 150, roja, 52</td><td>2</td><td>Red</td></tr><tr><td>314</td><td>Carretera: 150, roja, 56</td><td>2</td><td>Red</td></tr><tr><td>315</td><td>Carretera: 450, roja, 58</td><td>2</td><td>Red</td></tr><tr><td>316</td><td>Carretera: 450, roja, 60</td><td>2</td><td>Red</td></tr><tr><td>317</td><td>Carretera: 450, roja, 44</td><td>2</td><td>Red</td></tr><tr><td>318</td><td>Carretera: 450, roja, 48</td><td>2</td><td>Red</td></tr><tr><td>319</td><td>Carretera: 450, roja, 52</td><td>2</td><td>Red</td></tr><tr><td>320</td><td>Carretera: 650, roja, 58</td><td>2</td><td>Red</td></tr><tr><td>321</td><td>Carretera: 650, roja, 58</td><td>2</td><td>Red</td></tr><tr><td>322</td><td>Carretera: 650, roja, 60</td><td>2</td><td>Red</td></tr><tr><td>323</td><td>Carretera: 650, roja, 60</td><td>2</td><td>Red</td></tr><tr><td>324</td><td>Carretera: 650, roja, 62</td><td>2</td><td>Red</td></tr><tr><td>325</td><td>Carretera: 650, roja, 62</td><td>2</td><td>Red</td></tr><tr><td>326</td><td>Carretera: 650, roja, 44</td><td>2</td><td>Red</td></tr><tr><td>327</td><td>Carretera: 650, roja, 44</td><td>2</td><td>Red</td></tr><tr><td>328</td><td>Carretera: 650, roja, 48</td><td>2</td><td>Red</td></tr><tr><td>329</td><td>Carretera: 650, roja, 48</td><td>2</td><td>Red</td></tr><tr><td>330</td><td>Carretera: 650, roja, 52</td><td>2</td><td>Red</td></tr><tr><td>331</td><td>Carretera: 650, roja, 52</td><td>2</td><td>Red</td></tr><tr><td>332</td><td>Carretera: 650, negra, 58</td><td>2</td><td>Black</td></tr><tr><td>333</td><td>Carretera: 650, negra, 58</td><td>2</td><td>Black</td></tr><tr><td>334</td><td>Carretera: 650, negra, 60</td><td>2</td><td>Black</td></tr><tr><td>335</td><td>Carretera: 650, negra, 60</td><td>2</td><td>Black</td></tr><tr><td>336</td><td>Carretera: 650, negra, 62</td><td>2</td><td>Black</td></tr><tr><td>337</td><td>Carretera: 650, negra, 62</td><td>2</td><td>Black</td></tr><tr><td>338</td><td>Carretera: 650, negra, 44</td><td>2</td><td>Black</td></tr><tr><td>339</td><td>Carretera: 650, negra, 44</td><td>2</td><td>Black</td></tr><tr><td>340</td><td>Carretera: 650, negra, 48</td><td>2</td><td>Black</td></tr><tr><td>341</td><td>Carretera: 650, negra, 48</td><td>2</td><td>Black</td></tr><tr><td>342</td><td>Carretera: 650, negra, 52</td><td>2</td><td>Black</td></tr><tr><td>343</td><td>Carretera: 650, negra, 52</td><td>2</td><td>Black</td></tr><tr><td>344</td><td>Monta�a: 100, plateada, 38</td><td>1</td><td>Silver</td></tr><tr><td>345</td><td>Monta�a: 100, plateada, 42</td><td>1</td><td>Silver</td></tr><tr><td>346</td><td>Monta�a: 100, plateada, 44</td><td>1</td><td>Silver</td></tr><tr><td>347</td><td>Monta�a: 100, plateada, 48</td><td>1</td><td>Silver</td></tr><tr><td>348</td><td>Monta�a: 100, negra, 38</td><td>1</td><td>Black</td></tr><tr><td>349</td><td>Monta�a: 100, negra, 42</td><td>1</td><td>Black</td></tr><tr><td>350</td><td>Monta�a: 100, negra, 44</td><td>1</td><td>Black</td></tr><tr><td>351</td><td>Monta�a: 100, negra, 48</td><td>1</td><td>Black</td></tr><tr><td>352</td><td>Monta�a: 200, plateada, 38</td><td>1</td><td>Silver</td></tr><tr><td>353</td><td>Monta�a: 200, plateada, 38</td><td>1</td><td>Silver</td></tr><tr><td>354</td><td>Monta�a: 200, plateada, 42</td><td>1</td><td>Silver</td></tr><tr><td>355</td><td>Monta�a: 200, plateada, 42</td><td>1</td><td>Silver</td></tr><tr><td>356</td><td>Monta�a: 200, plateada, 46</td><td>1</td><td>Silver</td></tr><tr><td>357</td><td>Monta�a: 200, plateada, 46</td><td>1</td><td>Silver</td></tr><tr><td>358</td><td>Monta�a: 200, negra, 38</td><td>1</td><td>Black</td></tr><tr><td>359</td><td>Monta�a: 200, negra, 38</td><td>1</td><td>Black</td></tr><tr><td>360</td><td>Monta�a: 200, negra, 42</td><td>1</td><td>Black</td></tr><tr><td>361</td><td>Monta�a: 200, negra, 42</td><td>1</td><td>Black</td></tr><tr><td>362</td><td>Monta�a: 200, negra, 46</td><td>1</td><td>Black</td></tr><tr><td>363</td><td>Monta�a: 200, negra, 46</td><td>1</td><td>Black</td></tr><tr><td>364</td><td>Monta�a: 300, negra, 38</td><td>1</td><td>Black</td></tr><tr><td>365</td><td>Monta�a: 300, negra, 40</td><td>1</td><td>Black</td></tr><tr><td>366</td><td>Monta�a: 300, negra, 44</td><td>1</td><td>Black</td></tr><tr><td>367</td><td>Monta�a: 300, negra, 48</td><td>1</td><td>Black</td></tr><tr><td>368</td><td>Carretera: 250, roja, 44</td><td>2</td><td>Red</td></tr><tr><td>369</td><td>Carretera: 250, roja, 48</td><td>2</td><td>Red</td></tr><tr><td>370</td><td>Carretera: 250, roja, 52</td><td>2</td><td>Red</td></tr><tr><td>371</td><td>Carretera: 250, roja, 58</td><td>2</td><td>Red</td></tr><tr><td>372</td><td>Carretera: 250, roja, 58</td><td>2</td><td>Red</td></tr><tr><td>373</td><td>Carretera: 250, negra, 44</td><td>2</td><td>Black</td></tr><tr><td>374</td><td>Carretera: 250, negra, 44</td><td>2</td><td>Black</td></tr><tr><td>375</td><td>Carretera: 250, negra, 48</td><td>2</td><td>Black</td></tr><tr><td>376</td><td>Carretera: 250, negra, 48</td><td>2</td><td>Black</td></tr><tr><td>377</td><td>Carretera: 250, negra, 52</td><td>2</td><td>Black</td></tr><tr><td>378</td><td>Carretera: 250, negra, 52</td><td>2</td><td>Black</td></tr><tr><td>379</td><td>Carretera: 250, negra, 58</td><td>2</td><td>Black</td></tr><tr><td>380</td><td>Carretera: 250, negra, 58</td><td>2</td><td>Black</td></tr><tr><td>381</td><td>Carretera: 550 para mujer, amarilla, 38</td><td>2</td><td>Yellow</td></tr><tr><td>382</td><td>Carretera: 550 para mujer, amarilla, 38</td><td>2</td><td>Yellow</td></tr><tr><td>383</td><td>Carretera: 550 para mujer, amarilla, 40</td><td>2</td><td>Yellow</td></tr><tr><td>384</td><td>Carretera: 550 para mujer, amarilla, 40</td><td>2</td><td>Yellow</td></tr><tr><td>385</td><td>Carretera: 550 para mujer, amarilla, 42</td><td>2</td><td>Yellow</td></tr><tr><td>386</td><td>Carretera: 550 para mujer, amarilla, 42</td><td>2</td><td>Yellow</td></tr><tr><td>387</td><td>Carretera: 550 para mujer, amarilla, 44</td><td>2</td><td>Yellow</td></tr><tr><td>388</td><td>Carretera: 550 para mujer, amarilla, 44</td><td>2</td><td>Yellow</td></tr><tr><td>389</td><td>Carretera: 550 para mujer, amarilla, 48</td><td>2</td><td>Yellow</td></tr><tr><td>390</td><td>Carretera: 550 para mujer, amarilla, 48</td><td>2</td><td>Yellow</td></tr><tr><td>391</td><td>Horquilla GB</td><td>10</td><td>NA</td></tr><tr><td>392</td><td>Horquilla GM</td><td>10</td><td>NA</td></tr><tr><td>393</td><td>Horquilla GA</td><td>10</td><td>NA</td></tr><tr><td>394</td><td>Direcci�n GB</td><td>11</td><td>NA</td></tr><tr><td>395</td><td>Direcci�n GM</td><td>11</td><td>NA</td></tr><tr><td>396</td><td>Direcci�n GA</td><td>11</td><td>NA</td></tr><tr><td>403</td><td>Manillar de carretera GB</td><td>4</td><td>NA</td></tr><tr><td>404</td><td>Manillar de carretera GB</td><td>4</td><td>NA</td></tr><tr><td>405</td><td>Manillar de carretera GM</td><td>4</td><td>NA</td></tr><tr><td>406</td><td>Manillar de carretera GM</td><td>4</td><td>NA</td></tr><tr><td>407</td><td>Manillar de carretera GA</td><td>4</td><td>NA</td></tr><tr><td>408</td><td>Manillar de carretera GA</td><td>4</td><td>NA</td></tr><tr><td>413</td><td>Rueda de carretera delantera GB</td><td>17</td><td>Black</td></tr><tr><td>414</td><td>Rueda de carretera delantera GM</td><td>17</td><td>Black</td></tr><tr><td>415</td><td>Rueda de carretera delantera GA</td><td>17</td><td>Black</td></tr><tr><td>416</td><td>Rueda de paseo delantera</td><td>17</td><td>Black</td></tr><tr><td>417</td><td>Cuadro de carretera para mujer GM: amarillo, 38</td><td>14</td><td>Yellow</td></tr><tr><td>418</td><td>Cuadro de carretera para mujer GM: amarillo, 38</td><td>14</td><td>Yellow</td></tr><tr><td>422</td><td>Rueda de carretera trasera GB</td><td>17</td><td>Black</td></tr><tr><td>423</td><td>Rueda de carretera trasera GM</td><td>17</td><td>Black</td></tr><tr><td>424</td><td>Rueda de carretera trasera GA</td><td>17</td><td>Black</td></tr><tr><td>425</td><td>Rueda de paseo trasera</td><td>17</td><td>Black</td></tr><tr><td>429</td><td>Cuadro de carretera para mujer GM: amarillo, 40</td><td>14</td><td>Yellow</td></tr><tr><td>430</td><td>Cuadro de carretera para mujer GM: amarillo, 40</td><td>14</td><td>Yellow</td></tr><tr><td>431</td><td>Cuadro de carretera para mujer GM: amarillo, 42</td><td>14</td><td>Yellow</td></tr><tr><td>432</td><td>Cuadro de carretera para mujer GM: amarillo, 42</td><td>14</td><td>Yellow</td></tr><tr><td>433</td><td>Cuadro de carretera para mujer GM: amarillo, 44</td><td>14</td><td>Yellow</td></tr><tr><td>434</td><td>Cuadro de carretera para mujer GM: amarillo, 44</td><td>14</td><td>Yellow</td></tr><tr><td>435</td><td>Cuadro de carretera para mujer GM: amarillo, 48</td><td>14</td><td>Yellow</td></tr><tr><td>436</td><td>Cuadro de carretera para mujer GM: amarillo, 48</td><td>14</td><td>Yellow</td></tr><tr><td>437</td><td>Cuadro de carretera GA: negro, 62</td><td>14</td><td>Black</td></tr><tr><td>438</td><td>Cuadro de carretera GA: negro, 62</td><td>14</td><td>Black</td></tr><tr><td>439</td><td>Cuadro de carretera GA: negro, 44</td><td>14</td><td>Black</td></tr><tr><td>440</td><td>Cuadro de carretera GA: negro, 44</td><td>14</td><td>Black</td></tr><tr><td>441</td><td>Cuadro de carretera GA: negro, 48</td><td>14</td><td>Black</td></tr><tr><td>442</td><td>Cuadro de carretera GA: negro, 48</td><td>14</td><td>Black</td></tr><tr><td>443</td><td>Cuadro de carretera GA: negro, 52</td><td>14</td><td>Black</td></tr><tr><td>444</td><td>Cuadro de carretera GA: negro, 52</td><td>14</td><td>Black</td></tr><tr><td>445</td><td>Pantalones cortos de deporte para hombre, P</td><td>22</td><td>Black</td></tr><tr><td>446</td><td>Cesta de paseo, grande</td><td>35</td><td>Grey</td></tr><tr><td>447</td><td>Cable antirrobo</td><td>34</td><td>NA</td></tr><tr><td>449</td><td>Bomba de monta�a</td><td>36</td><td>NA</td></tr><tr><td>451</td><td>Luces: doble haz</td><td>33</td><td>NA</td></tr><tr><td>452</td><td>Luces: resistentes al agua</td><td>33</td><td>NA</td></tr><tr><td>453</td><td>Pantalones cortos de deporte para hombre, M</td><td>22</td><td>Black</td></tr><tr><td>454</td><td>Pantalones cortos de deporte para hombre, G</td><td>22</td><td>Black</td></tr><tr><td>455</td><td>Pantalones cortos de deporte para hombre, SG</td><td>22</td><td>Black</td></tr><tr><td>456</td><td>Mallas para mujer, P</td><td>24</td><td>Black</td></tr><tr><td>457</td><td>Mallas para mujer, M</td><td>24</td><td>Black</td></tr><tr><td>458</td><td>Mallas para mujer, G</td><td>24</td><td>Black</td></tr><tr><td>468</td><td>Guantes completos, P</td><td>20</td><td>Black</td></tr><tr><td>469</td><td>Guantes completos, M</td><td>20</td><td>Black</td></tr><tr><td>470</td><td>Guantes completos, G</td><td>20</td><td>Black</td></tr><tr><td>471</td><td>Camiseta cl�sica, P</td><td>25</td><td>Blue</td></tr><tr><td>472</td><td>Camiseta cl�sica, M</td><td>25</td><td>Blue</td></tr><tr><td>473</td><td>Camiseta cl�sica, G</td><td>25</td><td>Blue</td></tr><tr><td>478</td><td>Portabotellas de monta�a</td><td>28</td><td>NA</td></tr><tr><td>479</td><td>Portabotellas de carretera</td><td>28</td><td>NA</td></tr><tr><td>481</td><td>Calcetines para carreras, M</td><td>23</td><td>White</td></tr><tr><td>482</td><td>Calcetines para carreras, G</td><td>23</td><td>White</td></tr><tr><td>484</td><td>Lavado de bicicletas: disolvente</td><td>29</td><td>NA</td></tr><tr><td>485</td><td>Conjunto de guardabarros: monta�a</td><td>30</td><td>NA</td></tr><tr><td>486</td><td>Soporte multiusos para bicicletas</td><td>27</td><td>NA</td></tr><tr><td>488</td><td>Jersey cl�sico de manga corta, P</td><td>21</td><td>Yellow</td></tr><tr><td>489</td><td>Jersey cl�sico de manga corta, M</td><td>21</td><td>Yellow</td></tr><tr><td>490</td><td>Jersey cl�sico de manga corta, G</td><td>21</td><td>Yellow</td></tr><tr><td>491</td><td>Jersey cl�sico de manga corta, SG</td><td>21</td><td>Yellow</td></tr><tr><td>492</td><td>Cuadro de paseo GA: amarillo, 60</td><td>16</td><td>Yellow</td></tr><tr><td>493</td><td>Cuadro de paseo GB: amarillo, 62</td><td>16</td><td>Yellow</td></tr><tr><td>494</td><td>Cuadro de paseo GA: amarillo, 46</td><td>16</td><td>Yellow</td></tr><tr><td>495</td><td>Cuadro de paseo GA: amarillo, 50</td><td>16</td><td>Yellow</td></tr><tr><td>496</td><td>Cuadro de paseo GA: amarillo, 54</td><td>16</td><td>Yellow</td></tr><tr><td>497</td><td>Cuadro de paseo GA: azul, 46</td><td>16</td><td>Blue</td></tr><tr><td>498</td><td>Cuadro de paseo GA: azul, 50</td><td>16</td><td>Blue</td></tr><tr><td>499</td><td>Cuadro de paseo GA: azul, 54</td><td>16</td><td>Blue</td></tr><tr><td>500</td><td>Cuadro de paseo GA: azul, 60</td><td>16</td><td>Blue</td></tr><tr><td>501</td><td>Desviador trasero</td><td>9</td><td>Silver</td></tr><tr><td>502</td><td>Cuadro de paseo GB: azul, 50</td><td>16</td><td>Blue</td></tr><tr><td>503</td><td>Cuadro de paseo GB: azul, 54</td><td>16</td><td>Blue</td></tr><tr><td>504</td><td>Cuadro de paseo GB: azul, 58</td><td>16</td><td>Blue</td></tr><tr><td>505</td><td>Cuadro de paseo GB: azul, 62</td><td>16</td><td>Blue</td></tr><tr><td>506</td><td>Cuadro de paseo GB: amarillo, 44</td><td>16</td><td>Yellow</td></tr><tr><td>507</td><td>Cuadro de paseo GB: amarillo, 50</td><td>16</td><td>Yellow</td></tr><tr><td>508</td><td>Cuadro de paseo GB: amarillo, 54</td><td>16</td><td>Yellow</td></tr><tr><td>509</td><td>Cuadro de paseo GB: amarillo, 58</td><td>16</td><td>Yellow</td></tr><tr><td>510</td><td>Cuadro de paseo GB: azul, 44</td><td>16</td><td>Blue</td></tr><tr><td>514</td><td>Frenos traseros</td><td>6</td><td>Silver</td></tr><tr><td>518</td><td>Sill�n/asiento de carretera GB</td><td>15</td><td>NA</td></tr><tr><td>519</td><td>Sill�n/asiento de carretera GM</td><td>15</td><td>NA</td></tr><tr><td>520</td><td>Sill�n/asiento de carretera GA</td><td>15</td><td>NA</td></tr><tr><td>521</td><td>Sill�n/asiento de paseo GB</td><td>15</td><td>NA</td></tr><tr><td>522</td><td>Sill�n/asiento de paseo GM</td><td>15</td><td>NA</td></tr><tr><td>523</td><td>Sill�n/asiento de paseo GA</td><td>15</td><td>NA</td></tr><tr><td>528</td><td>Cubierta para c�mara de monta�a</td><td>37</td><td>NA</td></tr><tr><td>529</td><td>Cubierta para c�mara de carretera</td><td>37</td><td>NA</td></tr><tr><td>530</td><td>Cubierta para c�mara de paseo</td><td>37</td><td>NA</td></tr><tr><td>535</td><td>Cubierta de monta�a GB</td><td>37</td><td>NA</td></tr><tr><td>536</td><td>Cubierta de monta�a GM</td><td>37</td><td>NA</td></tr><tr><td>537</td><td>Cubierta de monta�a GA</td><td>37</td><td>NA</td></tr><tr><td>538</td><td>Cubierta de carretera GB</td><td>37</td><td>NA</td></tr><tr><td>539</td><td>Cubierta de carretera GM</td><td>37</td><td>NA</td></tr><tr><td>540</td><td>Cubierta de carretera GA</td><td>37</td><td>NA</td></tr><tr><td>541</td><td>Cubierta de paseo</td><td>37</td><td>NA</td></tr><tr><td>542</td><td>Pedal de monta�a GB</td><td>13</td><td>Silver/Black</td></tr><tr><td>543</td><td>Pedal de monta�a GM</td><td>13</td><td>Silver/Black</td></tr><tr><td>544</td><td>Pedal de monta�a GA</td><td>13</td><td>Silver/Black</td></tr><tr><td>545</td><td>Pedal de carretera GB</td><td>13</td><td>Silver/Black</td></tr><tr><td>546</td><td>Pedal de carretera GM</td><td>13</td><td>Silver/Black</td></tr><tr><td>547</td><td>Pedal de carretera GA</td><td>13</td><td>Silver/Black</td></tr><tr><td>548</td><td>Pedal de paseo</td><td>13</td><td>Silver/Black</td></tr><tr><td>552</td><td>Desviador delantero</td><td>9</td><td>Silver</td></tr><tr><td>553</td><td>Manillar de paseo GB</td><td>4</td><td>NA</td></tr><tr><td>554</td><td>Manillar de paseo GA</td><td>4</td><td>NA</td></tr><tr><td>555</td><td>Frenos delanteros</td><td>6</td><td>Silver</td></tr><tr><td>556</td><td>Bielas GB</td><td>8</td><td>Black</td></tr><tr><td>557</td><td>Bielas GM</td><td>8</td><td>Black</td></tr><tr><td>558</td><td>Bielas GA</td><td>8</td><td>Black</td></tr><tr><td>559</td><td>Cadena</td><td>7</td><td>Silver</td></tr><tr><td>560</td><td>Paseo: 2000, azul, 60</td><td>3</td><td>Blue</td></tr><tr><td>561</td><td>Paseo: 1000, amarilla, 46</td><td>3</td><td>Yellow</td></tr><tr><td>562</td><td>Paseo: 1000, amarilla, 50</td><td>3</td><td>Yellow</td></tr><tr><td>563</td><td>Paseo: 1000, amarilla, 54</td><td>3</td><td>Yellow</td></tr><tr><td>564</td><td>Paseo: 1000, amarilla, 60</td><td>3</td><td>Yellow</td></tr><tr><td>565</td><td>Paseo: 3000, azul, 54</td><td>3</td><td>Blue</td></tr><tr><td>566</td><td>Paseo: 3000, azul, 58</td><td>3</td><td>Blue</td></tr><tr><td>567</td><td>Paseo: 3000, azul, 62</td><td>3</td><td>Blue</td></tr><tr><td>568</td><td>Paseo: 3000, amarilla, 44</td><td>3</td><td>Yellow</td></tr><tr><td>569</td><td>Paseo: 3000, amarilla, 50</td><td>3</td><td>Yellow</td></tr><tr><td>570</td><td>Paseo: 3000, amarilla, 54</td><td>3</td><td>Yellow</td></tr><tr><td>571</td><td>Paseo: 3000, amarilla, 58</td><td>3</td><td>Yellow</td></tr><tr><td>572</td><td>Paseo: 3000, amarilla, 62</td><td>3</td><td>Yellow</td></tr><tr><td>573</td><td>Paseo: 1000, azul, 46</td><td>3</td><td>Blue</td></tr><tr><td>574</td><td>Paseo: 1000, azul, 50</td><td>3</td><td>Blue</td></tr><tr><td>575</td><td>Paseo: 1000, azul, 54</td><td>3</td><td>Blue</td></tr><tr><td>576</td><td>Paseo: 1000, azul, 60</td><td>3</td><td>Blue</td></tr><tr><td>577</td><td>Paseo: 2000, azul, 46</td><td>3</td><td>Blue</td></tr><tr><td>578</td><td>Paseo: 2000, azul, 50</td><td>3</td><td>Blue</td></tr><tr><td>579</td><td>Paseo: 2000, azul, 54</td><td>3</td><td>Blue</td></tr><tr><td>580</td><td>Carretera: 350 para mujer, amarilla, 40</td><td>2</td><td>Yellow</td></tr><tr><td>581</td><td>Carretera: 350 para mujer, amarilla, 42</td><td>2</td><td>Yellow</td></tr><tr><td>582</td><td>Carretera: 350 para mujer, amarilla, 44</td><td>2</td><td>Yellow</td></tr><tr><td>583</td><td>Carretera: 350 para mujer, amarilla, 48</td><td>2</td><td>Yellow</td></tr><tr><td>584</td><td>Carretera: 750, negra, 58</td><td>2</td><td>Black</td></tr><tr><td>585</td><td>Paseo: 3000, azul, 44</td><td>3</td><td>Blue</td></tr><tr><td>586</td><td>Paseo: 3000, azul, 50</td><td>3</td><td>Blue</td></tr><tr><td>587</td><td>Monta�a: 400 para mujer, plateada, 38</td><td>1</td><td>Silver</td></tr><tr><td>588</td><td>Monta�a: 400 para mujer, plateada, 40</td><td>1</td><td>Silver</td></tr><tr><td>589</td><td>Monta�a: 400 para mujer, plateada, 42</td><td>1</td><td>Silver</td></tr><tr><td>590</td><td>Monta�a: 400 para mujer, plateada, 46</td><td>1</td><td>Silver</td></tr><tr><td>591</td><td>Monta�a: 500, plateada, 40</td><td>1</td><td>Silver</td></tr><tr><td>592</td><td>Monta�a: 500, plateada, 42</td><td>1</td><td>Silver</td></tr><tr><td>593</td><td>Monta�a: 500, plateada, 44</td><td>1</td><td>Silver</td></tr><tr><td>594</td><td>Monta�a: 500, plateada, 48</td><td>1</td><td>Silver</td></tr><tr><td>595</td><td>Monta�a: 500, plateada, 52</td><td>1</td><td>Silver</td></tr><tr><td>596</td><td>Monta�a: 500, negra, 40</td><td>1</td><td>Black</td></tr><tr><td>597</td><td>Monta�a: 500, negra, 42</td><td>1</td><td>Black</td></tr><tr><td>598</td><td>Monta�a: 500, negra, 44</td><td>1</td><td>Black</td></tr><tr><td>599</td><td>Monta�a: 500, negra, 48</td><td>1</td><td>Black</td></tr><tr><td>600</td><td>Monta�a: 500, negra, 52</td><td>1</td><td>Black</td></tr><tr><td>601</td><td>Eje de pedalier GB</td><td>5</td><td>NA</td></tr><tr><td>602</td><td>Eje de pedalier GM</td><td>5</td><td>NA</td></tr><tr><td>603</td><td>Eje de pedalier GA</td><td>5</td><td>NA</td></tr><tr><td>604</td><td>Carretera: 750, negra, 44</td><td>2</td><td>Black</td></tr><tr><td>605</td><td>Carretera: 750, negra, 48</td><td>2</td><td>Black</td></tr><tr><td>606</td><td>Carretera: 750, negra, 52</td><td>2</td><td>Black</td></tr></tbody></table></div>"
      ]
     },
     "metadata": {
      "application/vnd.databricks.v1+output": {
       "addedWidgets": {},
       "aggData": [],
       "aggError": "",
       "aggOverflow": false,
       "aggSchema": [],
       "aggSeriesLimitReached": false,
       "aggType": "",
       "arguments": {},
       "columnCustomDisplayInfos": {},
       "data": [
        [
         "212",
         "Casco deportivo: 100, rojo",
         "31",
         "Red"
        ],
        [
         "213",
         "Casco deportivo: 100, rojo",
         "31",
         "Red"
        ],
        [
         "214",
         "Casco deportivo: 100, rojo",
         "31",
         "Red"
        ],
        [
         "215",
         "Casco deportivo: 100, negro",
         "31",
         "Black"
        ],
        [
         "216",
         "Casco deportivo: 100, negro",
         "31",
         "Black"
        ],
        [
         "217",
         "Casco deportivo: 100, negro",
         "31",
         "Black"
        ],
        [
         "218",
         "Calcetines para bicicleta de monta�a, M",
         "23",
         "White"
        ],
        [
         "219",
         "Calcetines para bicicleta de monta�a, G",
         "23",
         "White"
        ],
        [
         "220",
         "Casco deportivo: 100, azul",
         "31",
         "Blue"
        ],
        [
         "221",
         "Casco deportivo: 100, azul",
         "31",
         "Blue"
        ],
        [
         "222",
         "Casco deportivo: 100, azul",
         "31",
         "Blue"
        ],
        [
         "226",
         "Jersey con logotipo de manga larga, P",
         "21",
         "Multi"
        ],
        [
         "227",
         "Jersey con logotipo de manga larga, P",
         "21",
         "Multi"
        ],
        [
         "228",
         "Jersey con logotipo de manga larga, P",
         "21",
         "Multi"
        ],
        [
         "229",
         "Jersey con logotipo de manga larga, M",
         "21",
         "Multi"
        ],
        [
         "230",
         "Jersey con logotipo de manga larga, M",
         "21",
         "Multi"
        ],
        [
         "231",
         "Jersey con logotipo de manga larga, M",
         "21",
         "Multi"
        ],
        [
         "232",
         "Jersey con logotipo de manga larga, G",
         "21",
         "Multi"
        ],
        [
         "233",
         "Jersey con logotipo de manga larga, G",
         "21",
         "Multi"
        ],
        [
         "234",
         "Jersey con logotipo de manga larga, G",
         "21",
         "Multi"
        ],
        [
         "235",
         "Jersey con logotipo de manga larga, SG",
         "21",
         "Multi"
        ],
        [
         "236",
         "Jersey con logotipo de manga larga, SG",
         "21",
         "Multi"
        ],
        [
         "237",
         "Jersey con logotipo de manga larga, SG",
         "21",
         "Multi"
        ],
        [
         "238",
         "Cuadro de carretera GA: rojo, 62",
         "14",
         "Red"
        ],
        [
         "239",
         "Cuadro de carretera GA: rojo, 62",
         "14",
         "Red"
        ],
        [
         "240",
         "Cuadro de carretera GA: rojo, 62",
         "14",
         "Red"
        ],
        [
         "241",
         "Cuadro de carretera GA: rojo, 44",
         "14",
         "Red"
        ],
        [
         "242",
         "Cuadro de carretera GA: rojo, 44",
         "14",
         "Red"
        ],
        [
         "243",
         "Cuadro de carretera GA: rojo, 44",
         "14",
         "Red"
        ],
        [
         "244",
         "Cuadro de carretera GA: rojo, 48",
         "14",
         "Red"
        ],
        [
         "245",
         "Cuadro de carretera GA: rojo, 48",
         "14",
         "Red"
        ],
        [
         "246",
         "Cuadro de carretera GA: rojo, 48",
         "14",
         "Red"
        ],
        [
         "247",
         "Cuadro de carretera GA: rojo, 52",
         "14",
         "Red"
        ],
        [
         "248",
         "Cuadro de carretera GA: rojo, 52",
         "14",
         "Red"
        ],
        [
         "249",
         "Cuadro de carretera GA: rojo, 52",
         "14",
         "Red"
        ],
        [
         "250",
         "Cuadro de carretera GA: rojo, 56",
         "14",
         "Red"
        ],
        [
         "251",
         "Cuadro de carretera GA: rojo, 56",
         "14",
         "Red"
        ],
        [
         "252",
         "Cuadro de carretera GA: rojo, 56",
         "14",
         "Red"
        ],
        [
         "253",
         "Cuadro de carretera GB: negro, 58",
         "14",
         "Black"
        ],
        [
         "254",
         "Cuadro de carretera GB: negro, 58",
         "14",
         "Black"
        ],
        [
         "255",
         "Cuadro de carretera GB: negro, 58",
         "14",
         "Black"
        ],
        [
         "256",
         "Cuadro de carretera GB: negro, 60",
         "14",
         "Black"
        ],
        [
         "257",
         "Cuadro de carretera GB: negro, 60",
         "14",
         "Black"
        ],
        [
         "258",
         "Cuadro de carretera GB: negro, 60",
         "14",
         "Black"
        ],
        [
         "259",
         "Cuadro de carretera GB: negro, 62",
         "14",
         "Black"
        ],
        [
         "260",
         "Cuadro de carretera GB: negro, 62",
         "14",
         "Black"
        ],
        [
         "261",
         "Cuadro de carretera GB: negro, 62",
         "14",
         "Black"
        ],
        [
         "262",
         "Cuadro de carretera GB: rojo, 44",
         "14",
         "Red"
        ],
        [
         "263",
         "Cuadro de carretera GB: rojo, 44",
         "14",
         "Red"
        ],
        [
         "264",
         "Cuadro de carretera GB: rojo, 48",
         "14",
         "Red"
        ],
        [
         "265",
         "Cuadro de carretera GB: rojo, 48",
         "14",
         "Red"
        ],
        [
         "266",
         "Cuadro de carretera GB: rojo, 52",
         "14",
         "Red"
        ],
        [
         "267",
         "Cuadro de carretera GB: rojo, 52",
         "14",
         "Red"
        ],
        [
         "268",
         "Cuadro de carretera GB: rojo, 58",
         "14",
         "Red"
        ],
        [
         "269",
         "Cuadro de carretera GB: rojo, 58",
         "14",
         "Red"
        ],
        [
         "270",
         "Cuadro de carretera GB: rojo, 60",
         "14",
         "Red"
        ],
        [
         "271",
         "Cuadro de carretera GB: rojo, 60",
         "14",
         "Red"
        ],
        [
         "272",
         "Cuadro de carretera GB: rojo, 62",
         "14",
         "Red"
        ],
        [
         "273",
         "Cuadro de carretera GB: rojo, 62",
         "14",
         "Red"
        ],
        [
         "274",
         "Cuadro de carretera GM: rojo, 44",
         "14",
         "Red"
        ],
        [
         "275",
         "Cuadro de carretera GM: rojo, 48",
         "14",
         "Red"
        ],
        [
         "276",
         "Cuadro de carretera GM: rojo, 52",
         "14",
         "Red"
        ],
        [
         "277",
         "Cuadro de carretera GM: rojo, 58",
         "14",
         "Red"
        ],
        [
         "278",
         "Cuadro de carretera GM: rojo, 60",
         "14",
         "Red"
        ],
        [
         "279",
         "Cuadro de carretera GB: negro, 44",
         "14",
         "Black"
        ],
        [
         "280",
         "Cuadro de carretera GB: negro, 44",
         "14",
         "Black"
        ],
        [
         "281",
         "Cuadro de carretera GB: negro, 44",
         "14",
         "Black"
        ],
        [
         "282",
         "Cuadro de carretera GB: negro, 48",
         "14",
         "Black"
        ],
        [
         "283",
         "Cuadro de carretera GB: negro, 48",
         "14",
         "Black"
        ],
        [
         "284",
         "Cuadro de carretera GB: negro, 48",
         "14",
         "Black"
        ],
        [
         "285",
         "Cuadro de carretera GB: negro, 52",
         "14",
         "Black"
        ],
        [
         "286",
         "Cuadro de carretera GB: negro, 52",
         "14",
         "Black"
        ],
        [
         "287",
         "Cuadro de carretera GB: negro, 52",
         "14",
         "Black"
        ],
        [
         "310",
         "Carretera: 150, roja, 62",
         "2",
         "Red"
        ],
        [
         "311",
         "Carretera: 150, roja, 44",
         "2",
         "Red"
        ],
        [
         "312",
         "Carretera: 150, roja, 48",
         "2",
         "Red"
        ],
        [
         "313",
         "Carretera: 150, roja, 52",
         "2",
         "Red"
        ],
        [
         "314",
         "Carretera: 150, roja, 56",
         "2",
         "Red"
        ],
        [
         "315",
         "Carretera: 450, roja, 58",
         "2",
         "Red"
        ],
        [
         "316",
         "Carretera: 450, roja, 60",
         "2",
         "Red"
        ],
        [
         "317",
         "Carretera: 450, roja, 44",
         "2",
         "Red"
        ],
        [
         "318",
         "Carretera: 450, roja, 48",
         "2",
         "Red"
        ],
        [
         "319",
         "Carretera: 450, roja, 52",
         "2",
         "Red"
        ],
        [
         "320",
         "Carretera: 650, roja, 58",
         "2",
         "Red"
        ],
        [
         "321",
         "Carretera: 650, roja, 58",
         "2",
         "Red"
        ],
        [
         "322",
         "Carretera: 650, roja, 60",
         "2",
         "Red"
        ],
        [
         "323",
         "Carretera: 650, roja, 60",
         "2",
         "Red"
        ],
        [
         "324",
         "Carretera: 650, roja, 62",
         "2",
         "Red"
        ],
        [
         "325",
         "Carretera: 650, roja, 62",
         "2",
         "Red"
        ],
        [
         "326",
         "Carretera: 650, roja, 44",
         "2",
         "Red"
        ],
        [
         "327",
         "Carretera: 650, roja, 44",
         "2",
         "Red"
        ],
        [
         "328",
         "Carretera: 650, roja, 48",
         "2",
         "Red"
        ],
        [
         "329",
         "Carretera: 650, roja, 48",
         "2",
         "Red"
        ],
        [
         "330",
         "Carretera: 650, roja, 52",
         "2",
         "Red"
        ],
        [
         "331",
         "Carretera: 650, roja, 52",
         "2",
         "Red"
        ],
        [
         "332",
         "Carretera: 650, negra, 58",
         "2",
         "Black"
        ],
        [
         "333",
         "Carretera: 650, negra, 58",
         "2",
         "Black"
        ],
        [
         "334",
         "Carretera: 650, negra, 60",
         "2",
         "Black"
        ],
        [
         "335",
         "Carretera: 650, negra, 60",
         "2",
         "Black"
        ],
        [
         "336",
         "Carretera: 650, negra, 62",
         "2",
         "Black"
        ],
        [
         "337",
         "Carretera: 650, negra, 62",
         "2",
         "Black"
        ],
        [
         "338",
         "Carretera: 650, negra, 44",
         "2",
         "Black"
        ],
        [
         "339",
         "Carretera: 650, negra, 44",
         "2",
         "Black"
        ],
        [
         "340",
         "Carretera: 650, negra, 48",
         "2",
         "Black"
        ],
        [
         "341",
         "Carretera: 650, negra, 48",
         "2",
         "Black"
        ],
        [
         "342",
         "Carretera: 650, negra, 52",
         "2",
         "Black"
        ],
        [
         "343",
         "Carretera: 650, negra, 52",
         "2",
         "Black"
        ],
        [
         "344",
         "Monta�a: 100, plateada, 38",
         "1",
         "Silver"
        ],
        [
         "345",
         "Monta�a: 100, plateada, 42",
         "1",
         "Silver"
        ],
        [
         "346",
         "Monta�a: 100, plateada, 44",
         "1",
         "Silver"
        ],
        [
         "347",
         "Monta�a: 100, plateada, 48",
         "1",
         "Silver"
        ],
        [
         "348",
         "Monta�a: 100, negra, 38",
         "1",
         "Black"
        ],
        [
         "349",
         "Monta�a: 100, negra, 42",
         "1",
         "Black"
        ],
        [
         "350",
         "Monta�a: 100, negra, 44",
         "1",
         "Black"
        ],
        [
         "351",
         "Monta�a: 100, negra, 48",
         "1",
         "Black"
        ],
        [
         "352",
         "Monta�a: 200, plateada, 38",
         "1",
         "Silver"
        ],
        [
         "353",
         "Monta�a: 200, plateada, 38",
         "1",
         "Silver"
        ],
        [
         "354",
         "Monta�a: 200, plateada, 42",
         "1",
         "Silver"
        ],
        [
         "355",
         "Monta�a: 200, plateada, 42",
         "1",
         "Silver"
        ],
        [
         "356",
         "Monta�a: 200, plateada, 46",
         "1",
         "Silver"
        ],
        [
         "357",
         "Monta�a: 200, plateada, 46",
         "1",
         "Silver"
        ],
        [
         "358",
         "Monta�a: 200, negra, 38",
         "1",
         "Black"
        ],
        [
         "359",
         "Monta�a: 200, negra, 38",
         "1",
         "Black"
        ],
        [
         "360",
         "Monta�a: 200, negra, 42",
         "1",
         "Black"
        ],
        [
         "361",
         "Monta�a: 200, negra, 42",
         "1",
         "Black"
        ],
        [
         "362",
         "Monta�a: 200, negra, 46",
         "1",
         "Black"
        ],
        [
         "363",
         "Monta�a: 200, negra, 46",
         "1",
         "Black"
        ],
        [
         "364",
         "Monta�a: 300, negra, 38",
         "1",
         "Black"
        ],
        [
         "365",
         "Monta�a: 300, negra, 40",
         "1",
         "Black"
        ],
        [
         "366",
         "Monta�a: 300, negra, 44",
         "1",
         "Black"
        ],
        [
         "367",
         "Monta�a: 300, negra, 48",
         "1",
         "Black"
        ],
        [
         "368",
         "Carretera: 250, roja, 44",
         "2",
         "Red"
        ],
        [
         "369",
         "Carretera: 250, roja, 48",
         "2",
         "Red"
        ],
        [
         "370",
         "Carretera: 250, roja, 52",
         "2",
         "Red"
        ],
        [
         "371",
         "Carretera: 250, roja, 58",
         "2",
         "Red"
        ],
        [
         "372",
         "Carretera: 250, roja, 58",
         "2",
         "Red"
        ],
        [
         "373",
         "Carretera: 250, negra, 44",
         "2",
         "Black"
        ],
        [
         "374",
         "Carretera: 250, negra, 44",
         "2",
         "Black"
        ],
        [
         "375",
         "Carretera: 250, negra, 48",
         "2",
         "Black"
        ],
        [
         "376",
         "Carretera: 250, negra, 48",
         "2",
         "Black"
        ],
        [
         "377",
         "Carretera: 250, negra, 52",
         "2",
         "Black"
        ],
        [
         "378",
         "Carretera: 250, negra, 52",
         "2",
         "Black"
        ],
        [
         "379",
         "Carretera: 250, negra, 58",
         "2",
         "Black"
        ],
        [
         "380",
         "Carretera: 250, negra, 58",
         "2",
         "Black"
        ],
        [
         "381",
         "Carretera: 550 para mujer, amarilla, 38",
         "2",
         "Yellow"
        ],
        [
         "382",
         "Carretera: 550 para mujer, amarilla, 38",
         "2",
         "Yellow"
        ],
        [
         "383",
         "Carretera: 550 para mujer, amarilla, 40",
         "2",
         "Yellow"
        ],
        [
         "384",
         "Carretera: 550 para mujer, amarilla, 40",
         "2",
         "Yellow"
        ],
        [
         "385",
         "Carretera: 550 para mujer, amarilla, 42",
         "2",
         "Yellow"
        ],
        [
         "386",
         "Carretera: 550 para mujer, amarilla, 42",
         "2",
         "Yellow"
        ],
        [
         "387",
         "Carretera: 550 para mujer, amarilla, 44",
         "2",
         "Yellow"
        ],
        [
         "388",
         "Carretera: 550 para mujer, amarilla, 44",
         "2",
         "Yellow"
        ],
        [
         "389",
         "Carretera: 550 para mujer, amarilla, 48",
         "2",
         "Yellow"
        ],
        [
         "390",
         "Carretera: 550 para mujer, amarilla, 48",
         "2",
         "Yellow"
        ],
        [
         "391",
         "Horquilla GB",
         "10",
         "NA"
        ],
        [
         "392",
         "Horquilla GM",
         "10",
         "NA"
        ],
        [
         "393",
         "Horquilla GA",
         "10",
         "NA"
        ],
        [
         "394",
         "Direcci�n GB",
         "11",
         "NA"
        ],
        [
         "395",
         "Direcci�n GM",
         "11",
         "NA"
        ],
        [
         "396",
         "Direcci�n GA",
         "11",
         "NA"
        ],
        [
         "403",
         "Manillar de carretera GB",
         "4",
         "NA"
        ],
        [
         "404",
         "Manillar de carretera GB",
         "4",
         "NA"
        ],
        [
         "405",
         "Manillar de carretera GM",
         "4",
         "NA"
        ],
        [
         "406",
         "Manillar de carretera GM",
         "4",
         "NA"
        ],
        [
         "407",
         "Manillar de carretera GA",
         "4",
         "NA"
        ],
        [
         "408",
         "Manillar de carretera GA",
         "4",
         "NA"
        ],
        [
         "413",
         "Rueda de carretera delantera GB",
         "17",
         "Black"
        ],
        [
         "414",
         "Rueda de carretera delantera GM",
         "17",
         "Black"
        ],
        [
         "415",
         "Rueda de carretera delantera GA",
         "17",
         "Black"
        ],
        [
         "416",
         "Rueda de paseo delantera",
         "17",
         "Black"
        ],
        [
         "417",
         "Cuadro de carretera para mujer GM: amarillo, 38",
         "14",
         "Yellow"
        ],
        [
         "418",
         "Cuadro de carretera para mujer GM: amarillo, 38",
         "14",
         "Yellow"
        ],
        [
         "422",
         "Rueda de carretera trasera GB",
         "17",
         "Black"
        ],
        [
         "423",
         "Rueda de carretera trasera GM",
         "17",
         "Black"
        ],
        [
         "424",
         "Rueda de carretera trasera GA",
         "17",
         "Black"
        ],
        [
         "425",
         "Rueda de paseo trasera",
         "17",
         "Black"
        ],
        [
         "429",
         "Cuadro de carretera para mujer GM: amarillo, 40",
         "14",
         "Yellow"
        ],
        [
         "430",
         "Cuadro de carretera para mujer GM: amarillo, 40",
         "14",
         "Yellow"
        ],
        [
         "431",
         "Cuadro de carretera para mujer GM: amarillo, 42",
         "14",
         "Yellow"
        ],
        [
         "432",
         "Cuadro de carretera para mujer GM: amarillo, 42",
         "14",
         "Yellow"
        ],
        [
         "433",
         "Cuadro de carretera para mujer GM: amarillo, 44",
         "14",
         "Yellow"
        ],
        [
         "434",
         "Cuadro de carretera para mujer GM: amarillo, 44",
         "14",
         "Yellow"
        ],
        [
         "435",
         "Cuadro de carretera para mujer GM: amarillo, 48",
         "14",
         "Yellow"
        ],
        [
         "436",
         "Cuadro de carretera para mujer GM: amarillo, 48",
         "14",
         "Yellow"
        ],
        [
         "437",
         "Cuadro de carretera GA: negro, 62",
         "14",
         "Black"
        ],
        [
         "438",
         "Cuadro de carretera GA: negro, 62",
         "14",
         "Black"
        ],
        [
         "439",
         "Cuadro de carretera GA: negro, 44",
         "14",
         "Black"
        ],
        [
         "440",
         "Cuadro de carretera GA: negro, 44",
         "14",
         "Black"
        ],
        [
         "441",
         "Cuadro de carretera GA: negro, 48",
         "14",
         "Black"
        ],
        [
         "442",
         "Cuadro de carretera GA: negro, 48",
         "14",
         "Black"
        ],
        [
         "443",
         "Cuadro de carretera GA: negro, 52",
         "14",
         "Black"
        ],
        [
         "444",
         "Cuadro de carretera GA: negro, 52",
         "14",
         "Black"
        ],
        [
         "445",
         "Pantalones cortos de deporte para hombre, P",
         "22",
         "Black"
        ],
        [
         "446",
         "Cesta de paseo, grande",
         "35",
         "Grey"
        ],
        [
         "447",
         "Cable antirrobo",
         "34",
         "NA"
        ],
        [
         "449",
         "Bomba de monta�a",
         "36",
         "NA"
        ],
        [
         "451",
         "Luces: doble haz",
         "33",
         "NA"
        ],
        [
         "452",
         "Luces: resistentes al agua",
         "33",
         "NA"
        ],
        [
         "453",
         "Pantalones cortos de deporte para hombre, M",
         "22",
         "Black"
        ],
        [
         "454",
         "Pantalones cortos de deporte para hombre, G",
         "22",
         "Black"
        ],
        [
         "455",
         "Pantalones cortos de deporte para hombre, SG",
         "22",
         "Black"
        ],
        [
         "456",
         "Mallas para mujer, P",
         "24",
         "Black"
        ],
        [
         "457",
         "Mallas para mujer, M",
         "24",
         "Black"
        ],
        [
         "458",
         "Mallas para mujer, G",
         "24",
         "Black"
        ],
        [
         "468",
         "Guantes completos, P",
         "20",
         "Black"
        ],
        [
         "469",
         "Guantes completos, M",
         "20",
         "Black"
        ],
        [
         "470",
         "Guantes completos, G",
         "20",
         "Black"
        ],
        [
         "471",
         "Camiseta cl�sica, P",
         "25",
         "Blue"
        ],
        [
         "472",
         "Camiseta cl�sica, M",
         "25",
         "Blue"
        ],
        [
         "473",
         "Camiseta cl�sica, G",
         "25",
         "Blue"
        ],
        [
         "478",
         "Portabotellas de monta�a",
         "28",
         "NA"
        ],
        [
         "479",
         "Portabotellas de carretera",
         "28",
         "NA"
        ],
        [
         "481",
         "Calcetines para carreras, M",
         "23",
         "White"
        ],
        [
         "482",
         "Calcetines para carreras, G",
         "23",
         "White"
        ],
        [
         "484",
         "Lavado de bicicletas: disolvente",
         "29",
         "NA"
        ],
        [
         "485",
         "Conjunto de guardabarros: monta�a",
         "30",
         "NA"
        ],
        [
         "486",
         "Soporte multiusos para bicicletas",
         "27",
         "NA"
        ],
        [
         "488",
         "Jersey cl�sico de manga corta, P",
         "21",
         "Yellow"
        ],
        [
         "489",
         "Jersey cl�sico de manga corta, M",
         "21",
         "Yellow"
        ],
        [
         "490",
         "Jersey cl�sico de manga corta, G",
         "21",
         "Yellow"
        ],
        [
         "491",
         "Jersey cl�sico de manga corta, SG",
         "21",
         "Yellow"
        ],
        [
         "492",
         "Cuadro de paseo GA: amarillo, 60",
         "16",
         "Yellow"
        ],
        [
         "493",
         "Cuadro de paseo GB: amarillo, 62",
         "16",
         "Yellow"
        ],
        [
         "494",
         "Cuadro de paseo GA: amarillo, 46",
         "16",
         "Yellow"
        ],
        [
         "495",
         "Cuadro de paseo GA: amarillo, 50",
         "16",
         "Yellow"
        ],
        [
         "496",
         "Cuadro de paseo GA: amarillo, 54",
         "16",
         "Yellow"
        ],
        [
         "497",
         "Cuadro de paseo GA: azul, 46",
         "16",
         "Blue"
        ],
        [
         "498",
         "Cuadro de paseo GA: azul, 50",
         "16",
         "Blue"
        ],
        [
         "499",
         "Cuadro de paseo GA: azul, 54",
         "16",
         "Blue"
        ],
        [
         "500",
         "Cuadro de paseo GA: azul, 60",
         "16",
         "Blue"
        ],
        [
         "501",
         "Desviador trasero",
         "9",
         "Silver"
        ],
        [
         "502",
         "Cuadro de paseo GB: azul, 50",
         "16",
         "Blue"
        ],
        [
         "503",
         "Cuadro de paseo GB: azul, 54",
         "16",
         "Blue"
        ],
        [
         "504",
         "Cuadro de paseo GB: azul, 58",
         "16",
         "Blue"
        ],
        [
         "505",
         "Cuadro de paseo GB: azul, 62",
         "16",
         "Blue"
        ],
        [
         "506",
         "Cuadro de paseo GB: amarillo, 44",
         "16",
         "Yellow"
        ],
        [
         "507",
         "Cuadro de paseo GB: amarillo, 50",
         "16",
         "Yellow"
        ],
        [
         "508",
         "Cuadro de paseo GB: amarillo, 54",
         "16",
         "Yellow"
        ],
        [
         "509",
         "Cuadro de paseo GB: amarillo, 58",
         "16",
         "Yellow"
        ],
        [
         "510",
         "Cuadro de paseo GB: azul, 44",
         "16",
         "Blue"
        ],
        [
         "514",
         "Frenos traseros",
         "6",
         "Silver"
        ],
        [
         "518",
         "Sill�n/asiento de carretera GB",
         "15",
         "NA"
        ],
        [
         "519",
         "Sill�n/asiento de carretera GM",
         "15",
         "NA"
        ],
        [
         "520",
         "Sill�n/asiento de carretera GA",
         "15",
         "NA"
        ],
        [
         "521",
         "Sill�n/asiento de paseo GB",
         "15",
         "NA"
        ],
        [
         "522",
         "Sill�n/asiento de paseo GM",
         "15",
         "NA"
        ],
        [
         "523",
         "Sill�n/asiento de paseo GA",
         "15",
         "NA"
        ],
        [
         "528",
         "Cubierta para c�mara de monta�a",
         "37",
         "NA"
        ],
        [
         "529",
         "Cubierta para c�mara de carretera",
         "37",
         "NA"
        ],
        [
         "530",
         "Cubierta para c�mara de paseo",
         "37",
         "NA"
        ],
        [
         "535",
         "Cubierta de monta�a GB",
         "37",
         "NA"
        ],
        [
         "536",
         "Cubierta de monta�a GM",
         "37",
         "NA"
        ],
        [
         "537",
         "Cubierta de monta�a GA",
         "37",
         "NA"
        ],
        [
         "538",
         "Cubierta de carretera GB",
         "37",
         "NA"
        ],
        [
         "539",
         "Cubierta de carretera GM",
         "37",
         "NA"
        ],
        [
         "540",
         "Cubierta de carretera GA",
         "37",
         "NA"
        ],
        [
         "541",
         "Cubierta de paseo",
         "37",
         "NA"
        ],
        [
         "542",
         "Pedal de monta�a GB",
         "13",
         "Silver/Black"
        ],
        [
         "543",
         "Pedal de monta�a GM",
         "13",
         "Silver/Black"
        ],
        [
         "544",
         "Pedal de monta�a GA",
         "13",
         "Silver/Black"
        ],
        [
         "545",
         "Pedal de carretera GB",
         "13",
         "Silver/Black"
        ],
        [
         "546",
         "Pedal de carretera GM",
         "13",
         "Silver/Black"
        ],
        [
         "547",
         "Pedal de carretera GA",
         "13",
         "Silver/Black"
        ],
        [
         "548",
         "Pedal de paseo",
         "13",
         "Silver/Black"
        ],
        [
         "552",
         "Desviador delantero",
         "9",
         "Silver"
        ],
        [
         "553",
         "Manillar de paseo GB",
         "4",
         "NA"
        ],
        [
         "554",
         "Manillar de paseo GA",
         "4",
         "NA"
        ],
        [
         "555",
         "Frenos delanteros",
         "6",
         "Silver"
        ],
        [
         "556",
         "Bielas GB",
         "8",
         "Black"
        ],
        [
         "557",
         "Bielas GM",
         "8",
         "Black"
        ],
        [
         "558",
         "Bielas GA",
         "8",
         "Black"
        ],
        [
         "559",
         "Cadena",
         "7",
         "Silver"
        ],
        [
         "560",
         "Paseo: 2000, azul, 60",
         "3",
         "Blue"
        ],
        [
         "561",
         "Paseo: 1000, amarilla, 46",
         "3",
         "Yellow"
        ],
        [
         "562",
         "Paseo: 1000, amarilla, 50",
         "3",
         "Yellow"
        ],
        [
         "563",
         "Paseo: 1000, amarilla, 54",
         "3",
         "Yellow"
        ],
        [
         "564",
         "Paseo: 1000, amarilla, 60",
         "3",
         "Yellow"
        ],
        [
         "565",
         "Paseo: 3000, azul, 54",
         "3",
         "Blue"
        ],
        [
         "566",
         "Paseo: 3000, azul, 58",
         "3",
         "Blue"
        ],
        [
         "567",
         "Paseo: 3000, azul, 62",
         "3",
         "Blue"
        ],
        [
         "568",
         "Paseo: 3000, amarilla, 44",
         "3",
         "Yellow"
        ],
        [
         "569",
         "Paseo: 3000, amarilla, 50",
         "3",
         "Yellow"
        ],
        [
         "570",
         "Paseo: 3000, amarilla, 54",
         "3",
         "Yellow"
        ],
        [
         "571",
         "Paseo: 3000, amarilla, 58",
         "3",
         "Yellow"
        ],
        [
         "572",
         "Paseo: 3000, amarilla, 62",
         "3",
         "Yellow"
        ],
        [
         "573",
         "Paseo: 1000, azul, 46",
         "3",
         "Blue"
        ],
        [
         "574",
         "Paseo: 1000, azul, 50",
         "3",
         "Blue"
        ],
        [
         "575",
         "Paseo: 1000, azul, 54",
         "3",
         "Blue"
        ],
        [
         "576",
         "Paseo: 1000, azul, 60",
         "3",
         "Blue"
        ],
        [
         "577",
         "Paseo: 2000, azul, 46",
         "3",
         "Blue"
        ],
        [
         "578",
         "Paseo: 2000, azul, 50",
         "3",
         "Blue"
        ],
        [
         "579",
         "Paseo: 2000, azul, 54",
         "3",
         "Blue"
        ],
        [
         "580",
         "Carretera: 350 para mujer, amarilla, 40",
         "2",
         "Yellow"
        ],
        [
         "581",
         "Carretera: 350 para mujer, amarilla, 42",
         "2",
         "Yellow"
        ],
        [
         "582",
         "Carretera: 350 para mujer, amarilla, 44",
         "2",
         "Yellow"
        ],
        [
         "583",
         "Carretera: 350 para mujer, amarilla, 48",
         "2",
         "Yellow"
        ],
        [
         "584",
         "Carretera: 750, negra, 58",
         "2",
         "Black"
        ],
        [
         "585",
         "Paseo: 3000, azul, 44",
         "3",
         "Blue"
        ],
        [
         "586",
         "Paseo: 3000, azul, 50",
         "3",
         "Blue"
        ],
        [
         "587",
         "Monta�a: 400 para mujer, plateada, 38",
         "1",
         "Silver"
        ],
        [
         "588",
         "Monta�a: 400 para mujer, plateada, 40",
         "1",
         "Silver"
        ],
        [
         "589",
         "Monta�a: 400 para mujer, plateada, 42",
         "1",
         "Silver"
        ],
        [
         "590",
         "Monta�a: 400 para mujer, plateada, 46",
         "1",
         "Silver"
        ],
        [
         "591",
         "Monta�a: 500, plateada, 40",
         "1",
         "Silver"
        ],
        [
         "592",
         "Monta�a: 500, plateada, 42",
         "1",
         "Silver"
        ],
        [
         "593",
         "Monta�a: 500, plateada, 44",
         "1",
         "Silver"
        ],
        [
         "594",
         "Monta�a: 500, plateada, 48",
         "1",
         "Silver"
        ],
        [
         "595",
         "Monta�a: 500, plateada, 52",
         "1",
         "Silver"
        ],
        [
         "596",
         "Monta�a: 500, negra, 40",
         "1",
         "Black"
        ],
        [
         "597",
         "Monta�a: 500, negra, 42",
         "1",
         "Black"
        ],
        [
         "598",
         "Monta�a: 500, negra, 44",
         "1",
         "Black"
        ],
        [
         "599",
         "Monta�a: 500, negra, 48",
         "1",
         "Black"
        ],
        [
         "600",
         "Monta�a: 500, negra, 52",
         "1",
         "Black"
        ],
        [
         "601",
         "Eje de pedalier GB",
         "5",
         "NA"
        ],
        [
         "602",
         "Eje de pedalier GM",
         "5",
         "NA"
        ],
        [
         "603",
         "Eje de pedalier GA",
         "5",
         "NA"
        ],
        [
         "604",
         "Carretera: 750, negra, 44",
         "2",
         "Black"
        ],
        [
         "605",
         "Carretera: 750, negra, 48",
         "2",
         "Black"
        ],
        [
         "606",
         "Carretera: 750, negra, 52",
         "2",
         "Black"
        ]
       ],
       "datasetInfos": [],
       "dbfsResultPath": null,
       "isJsonSchema": true,
       "metadata": {
        "dataframeName": "_sqldf",
        "executionCount": 12
       },
       "overflow": false,
       "plotOptions": {
        "customPlotOptions": {},
        "displayType": "table",
        "pivotAggregation": null,
        "pivotColumns": null,
        "xColumns": null,
        "yColumns": null
       },
       "removedWidgets": [],
       "schema": [
        {
         "metadata": "{}",
         "name": "Cod_Producto",
         "type": "\"string\""
        },
        {
         "metadata": "{}",
         "name": "Nombre",
         "type": "\"string\""
        },
        {
         "metadata": "{}",
         "name": "Cod_SubCategoria",
         "type": "\"string\""
        },
        {
         "metadata": "{}",
         "name": "Color",
         "type": "\"string\""
        }
       ],
       "type": "table"
      }
     },
     "output_type": "display_data"
    }
   ],
   "source": [
    "%sql\n",
    "\n",
    "SELECT*FROM Producto"
   ]
  },
  {
   "cell_type": "code",
   "execution_count": 0,
   "metadata": {
    "application/vnd.databricks.v1+cell": {
     "cellMetadata": {
      "byteLimit": 2048000,
      "rowLimit": 10000
     },
     "inputWidgets": {},
     "nuid": "ef0885cd-96a4-46cd-a938-0dd649abf025",
     "showTitle": false,
     "title": ""
    }
   },
   "outputs": [],
   "source": [
    "dfProd=spark.table(\"Producto\")\n",
    "dfProd.write.mode(\"overwrite\").parquet(\"/mnt/julioac/proyectofinal/capaplata/Producto.parquet\")"
   ]
  },
  {
   "cell_type": "code",
   "execution_count": 0,
   "metadata": {
    "application/vnd.databricks.v1+cell": {
     "cellMetadata": {
      "byteLimit": 2048000,
      "rowLimit": 10000
     },
     "inputWidgets": {},
     "nuid": "a51e7d30-9e95-4189-8438-e5c8cbc2be4f",
     "showTitle": false,
     "title": ""
    }
   },
   "outputs": [
    {
     "output_type": "execute_result",
     "data": {
      "text/plain": [
       "'Cod_Categoria,Nombre\\r\\n1,Bicicleta\\r\\n2,Componente\\r\\n3,Prenda\\r\\n4,Accesorio\\r\\n'"
      ]
     },
     "execution_count": 3,
     "metadata": {},
     "output_type": "execute_result"
    }
   ],
   "source": [
    "dbutils.fs.head('/mnt/julioac/proyectofinal/capabronce/Categoria.csv',233)"
   ]
  },
  {
   "cell_type": "code",
   "execution_count": 0,
   "metadata": {
    "application/vnd.databricks.v1+cell": {
     "cellMetadata": {
      "byteLimit": 2048000,
      "implicitDf": true,
      "rowLimit": 10000
     },
     "inputWidgets": {},
     "nuid": "38080d2c-60fb-49c2-8518-1dbba970daf7",
     "showTitle": false,
     "title": ""
    }
   },
   "outputs": [
    {
     "output_type": "display_data",
     "data": {
      "text/html": [
       "<style scoped>\n",
       "  .table-result-container {\n",
       "    max-height: 300px;\n",
       "    overflow: auto;\n",
       "  }\n",
       "  table, th, td {\n",
       "    border: 1px solid black;\n",
       "    border-collapse: collapse;\n",
       "  }\n",
       "  th, td {\n",
       "    padding: 5px;\n",
       "  }\n",
       "  th {\n",
       "    text-align: left;\n",
       "  }\n",
       "</style><div class='table-result-container'><table class='table-result'><thead style='background-color: white'><tr></tr></thead><tbody></tbody></table></div>"
      ]
     },
     "metadata": {
      "application/vnd.databricks.v1+output": {
       "addedWidgets": {},
       "aggData": [],
       "aggError": "",
       "aggOverflow": false,
       "aggSchema": [],
       "aggSeriesLimitReached": false,
       "aggType": "",
       "arguments": {},
       "columnCustomDisplayInfos": {},
       "data": [],
       "datasetInfos": [],
       "dbfsResultPath": null,
       "isJsonSchema": true,
       "metadata": {
        "dataframeName": null
       },
       "overflow": false,
       "plotOptions": {
        "customPlotOptions": {},
        "displayType": "table",
        "pivotAggregation": null,
        "pivotColumns": null,
        "xColumns": null,
        "yColumns": null
       },
       "removedWidgets": [],
       "schema": [],
       "type": "table"
      }
     },
     "output_type": "display_data"
    }
   ],
   "source": [
    "%sql\n",
    "\n",
    "DROP TABLE IF EXISTS Categoria;\n",
    "\n",
    "CREATE TABLE Categoria\n",
    "(Cod_Categoria STRING,Nombre STRING)\n",
    "USING CSV\n",
    "OPTIONS (header 'true', inferSchema 'true', delimiter ',')\n",
    "LOCATION \"/mnt/julioac/proyectofinal/capabronce/Categoria.csv\""
   ]
  },
  {
   "cell_type": "code",
   "execution_count": 0,
   "metadata": {
    "application/vnd.databricks.v1+cell": {
     "cellMetadata": {
      "byteLimit": 2048000,
      "implicitDf": true,
      "rowLimit": 10000
     },
     "inputWidgets": {},
     "nuid": "7fe2bff1-e441-474b-8ce6-d29ba1bcc78e",
     "showTitle": false,
     "title": ""
    }
   },
   "outputs": [
    {
     "output_type": "display_data",
     "data": {
      "text/html": [
       "<style scoped>\n",
       "  .table-result-container {\n",
       "    max-height: 300px;\n",
       "    overflow: auto;\n",
       "  }\n",
       "  table, th, td {\n",
       "    border: 1px solid black;\n",
       "    border-collapse: collapse;\n",
       "  }\n",
       "  th, td {\n",
       "    padding: 5px;\n",
       "  }\n",
       "  th {\n",
       "    text-align: left;\n",
       "  }\n",
       "</style><div class='table-result-container'><table class='table-result'><thead style='background-color: white'><tr><th>Cod_Categoria</th><th>Nombre</th></tr></thead><tbody><tr><td>1</td><td>Bicicleta</td></tr><tr><td>2</td><td>Componente</td></tr><tr><td>3</td><td>Prenda</td></tr><tr><td>4</td><td>Accesorio</td></tr></tbody></table></div>"
      ]
     },
     "metadata": {
      "application/vnd.databricks.v1+output": {
       "addedWidgets": {},
       "aggData": [],
       "aggError": "",
       "aggOverflow": false,
       "aggSchema": [],
       "aggSeriesLimitReached": false,
       "aggType": "",
       "arguments": {},
       "columnCustomDisplayInfos": {},
       "data": [
        [
         "1",
         "Bicicleta"
        ],
        [
         "2",
         "Componente"
        ],
        [
         "3",
         "Prenda"
        ],
        [
         "4",
         "Accesorio"
        ]
       ],
       "datasetInfos": [],
       "dbfsResultPath": null,
       "isJsonSchema": true,
       "metadata": {
        "dataframeName": "_sqldf",
        "executionCount": 9
       },
       "overflow": false,
       "plotOptions": {
        "customPlotOptions": {},
        "displayType": "table",
        "pivotAggregation": null,
        "pivotColumns": null,
        "xColumns": null,
        "yColumns": null
       },
       "removedWidgets": [],
       "schema": [
        {
         "metadata": "{}",
         "name": "Cod_Categoria",
         "type": "\"string\""
        },
        {
         "metadata": "{}",
         "name": "Nombre",
         "type": "\"string\""
        }
       ],
       "type": "table"
      }
     },
     "output_type": "display_data"
    }
   ],
   "source": [
    "%sql\n",
    "SELECT * FROM Categoria;"
   ]
  },
  {
   "cell_type": "code",
   "execution_count": 0,
   "metadata": {
    "application/vnd.databricks.v1+cell": {
     "cellMetadata": {
      "byteLimit": 2048000,
      "rowLimit": 10000
     },
     "inputWidgets": {},
     "nuid": "fe2cc7d8-86a8-4de4-9611-e02c0137440d",
     "showTitle": false,
     "title": ""
    }
   },
   "outputs": [
    {
     "output_type": "stream",
     "name": "stdout",
     "output_type": "stream",
     "text": [
      "[Truncated to first 233 bytes]\n"
     ]
    },
    {
     "output_type": "execute_result",
     "data": {
      "text/plain": [
       "'Cod_SubCategoria,Nombre,Cod_Categoria\\r\\n1,Bicicleta de monta�a,1\\r\\n2,Bicicleta de carretera,1\\r\\n3,Bicicleta de paseo,1\\r\\n4,Barra,2\\r\\n5,Eje de pedalier,2\\r\\n6,Frenos,2\\r\\n7,Cadena,2\\r\\n8,Bielas,2\\r\\n9,Desviador,2\\r\\n10,Horquilla,2\\r\\n11,Direcci�n,2\\r\\n1'"
      ]
     },
     "execution_count": 4,
     "metadata": {},
     "output_type": "execute_result"
    }
   ],
   "source": [
    "dbutils.fs.head('/mnt/julioac/proyectofinal/capabronce/SubCategoria.csv',233)"
   ]
  },
  {
   "cell_type": "code",
   "execution_count": 0,
   "metadata": {
    "application/vnd.databricks.v1+cell": {
     "cellMetadata": {
      "byteLimit": 2048000,
      "implicitDf": true,
      "rowLimit": 10000
     },
     "inputWidgets": {},
     "nuid": "81aa3c24-76b7-4c5d-9a26-3602d9e750c6",
     "showTitle": false,
     "title": ""
    }
   },
   "outputs": [
    {
     "output_type": "display_data",
     "data": {
      "text/html": [
       "<style scoped>\n",
       "  .table-result-container {\n",
       "    max-height: 300px;\n",
       "    overflow: auto;\n",
       "  }\n",
       "  table, th, td {\n",
       "    border: 1px solid black;\n",
       "    border-collapse: collapse;\n",
       "  }\n",
       "  th, td {\n",
       "    padding: 5px;\n",
       "  }\n",
       "  th {\n",
       "    text-align: left;\n",
       "  }\n",
       "</style><div class='table-result-container'><table class='table-result'><thead style='background-color: white'><tr></tr></thead><tbody></tbody></table></div>"
      ]
     },
     "metadata": {
      "application/vnd.databricks.v1+output": {
       "addedWidgets": {},
       "aggData": [],
       "aggError": "",
       "aggOverflow": false,
       "aggSchema": [],
       "aggSeriesLimitReached": false,
       "aggType": "",
       "arguments": {},
       "columnCustomDisplayInfos": {},
       "data": [],
       "datasetInfos": [],
       "dbfsResultPath": null,
       "isJsonSchema": true,
       "metadata": {
        "dataframeName": null
       },
       "overflow": false,
       "plotOptions": {
        "customPlotOptions": {},
        "displayType": "table",
        "pivotAggregation": null,
        "pivotColumns": null,
        "xColumns": null,
        "yColumns": null
       },
       "removedWidgets": [],
       "schema": [],
       "type": "table"
      }
     },
     "output_type": "display_data"
    }
   ],
   "source": [
    "%sql\n",
    "\n",
    "DROP TABLE IF EXISTS SubCategoria;\n",
    "\n",
    "CREATE TABLE SubCategoria\n",
    "(Cod_SubCategoria STRING,Nombre STRING, Cod_Categoria STRING)\n",
    "USING CSV\n",
    "OPTIONS (header 'true', inferSchema 'true', delimiter ',')\n",
    "LOCATION \"/mnt/julioac/proyectofinal/capabronce/SubCategoria.csv\""
   ]
  },
  {
   "cell_type": "code",
   "execution_count": 0,
   "metadata": {
    "application/vnd.databricks.v1+cell": {
     "cellMetadata": {
      "byteLimit": 2048000,
      "implicitDf": true,
      "rowLimit": 10000
     },
     "inputWidgets": {},
     "nuid": "25313cad-2ae1-487a-b22a-26bd233845df",
     "showTitle": false,
     "title": ""
    }
   },
   "outputs": [
    {
     "output_type": "display_data",
     "data": {
      "text/html": [
       "<style scoped>\n",
       "  .table-result-container {\n",
       "    max-height: 300px;\n",
       "    overflow: auto;\n",
       "  }\n",
       "  table, th, td {\n",
       "    border: 1px solid black;\n",
       "    border-collapse: collapse;\n",
       "  }\n",
       "  th, td {\n",
       "    padding: 5px;\n",
       "  }\n",
       "  th {\n",
       "    text-align: left;\n",
       "  }\n",
       "</style><div class='table-result-container'><table class='table-result'><thead style='background-color: white'><tr><th>Cod_SubCategoria</th><th>Nombre</th><th>Cod_Categoria</th></tr></thead><tbody><tr><td>1</td><td>Bicicleta de monta�a</td><td>1</td></tr><tr><td>2</td><td>Bicicleta de carretera</td><td>1</td></tr><tr><td>3</td><td>Bicicleta de paseo</td><td>1</td></tr><tr><td>4</td><td>Barra</td><td>2</td></tr><tr><td>5</td><td>Eje de pedalier</td><td>2</td></tr><tr><td>6</td><td>Frenos</td><td>2</td></tr><tr><td>7</td><td>Cadena</td><td>2</td></tr><tr><td>8</td><td>Bielas</td><td>2</td></tr><tr><td>9</td><td>Desviador</td><td>2</td></tr><tr><td>10</td><td>Horquilla</td><td>2</td></tr><tr><td>11</td><td>Direcci�n</td><td>2</td></tr><tr><td>12</td><td>Cuadro de monta�a</td><td>2</td></tr><tr><td>13</td><td>Pedal</td><td>2</td></tr><tr><td>14</td><td>Cuadro de carretera</td><td>2</td></tr><tr><td>15</td><td>Sill�n</td><td>2</td></tr><tr><td>16</td><td>Cuadro de paseo</td><td>2</td></tr><tr><td>17</td><td>Rueda</td><td>2</td></tr><tr><td>18</td><td>Culote corto</td><td>3</td></tr><tr><td>19</td><td>Gorra</td><td>3</td></tr><tr><td>20</td><td>Guantes</td><td>3</td></tr><tr><td>21</td><td>Jersey</td><td>3</td></tr><tr><td>22</td><td>Pantalones cortos</td><td>3</td></tr><tr><td>23</td><td>Calcetines</td><td>3</td></tr><tr><td>24</td><td>Mallas</td><td>3</td></tr><tr><td>25</td><td>Camiseta</td><td>3</td></tr><tr><td>26</td><td>Portabicicletas</td><td>4</td></tr><tr><td>27</td><td>Soporte para bicicletas</td><td>4</td></tr><tr><td>28</td><td>Portabotellas y botella</td><td>4</td></tr><tr><td>29</td><td>Limpiador</td><td>4</td></tr><tr><td>30</td><td>Guardabarros</td><td>4</td></tr><tr><td>31</td><td>Casco</td><td>4</td></tr><tr><td>32</td><td>Sistema de hidrataci�n</td><td>4</td></tr><tr><td>33</td><td>Luz</td><td>4</td></tr><tr><td>34</td><td>Candado</td><td>4</td></tr><tr><td>35</td><td>Cesta</td><td>4</td></tr><tr><td>36</td><td>Bomba</td><td>4</td></tr><tr><td>37</td><td>Cubierta y c�mara</td><td>4</td></tr></tbody></table></div>"
      ]
     },
     "metadata": {
      "application/vnd.databricks.v1+output": {
       "addedWidgets": {},
       "aggData": [],
       "aggError": "",
       "aggOverflow": false,
       "aggSchema": [],
       "aggSeriesLimitReached": false,
       "aggType": "",
       "arguments": {},
       "columnCustomDisplayInfos": {},
       "data": [
        [
         "1",
         "Bicicleta de monta�a",
         "1"
        ],
        [
         "2",
         "Bicicleta de carretera",
         "1"
        ],
        [
         "3",
         "Bicicleta de paseo",
         "1"
        ],
        [
         "4",
         "Barra",
         "2"
        ],
        [
         "5",
         "Eje de pedalier",
         "2"
        ],
        [
         "6",
         "Frenos",
         "2"
        ],
        [
         "7",
         "Cadena",
         "2"
        ],
        [
         "8",
         "Bielas",
         "2"
        ],
        [
         "9",
         "Desviador",
         "2"
        ],
        [
         "10",
         "Horquilla",
         "2"
        ],
        [
         "11",
         "Direcci�n",
         "2"
        ],
        [
         "12",
         "Cuadro de monta�a",
         "2"
        ],
        [
         "13",
         "Pedal",
         "2"
        ],
        [
         "14",
         "Cuadro de carretera",
         "2"
        ],
        [
         "15",
         "Sill�n",
         "2"
        ],
        [
         "16",
         "Cuadro de paseo",
         "2"
        ],
        [
         "17",
         "Rueda",
         "2"
        ],
        [
         "18",
         "Culote corto",
         "3"
        ],
        [
         "19",
         "Gorra",
         "3"
        ],
        [
         "20",
         "Guantes",
         "3"
        ],
        [
         "21",
         "Jersey",
         "3"
        ],
        [
         "22",
         "Pantalones cortos",
         "3"
        ],
        [
         "23",
         "Calcetines",
         "3"
        ],
        [
         "24",
         "Mallas",
         "3"
        ],
        [
         "25",
         "Camiseta",
         "3"
        ],
        [
         "26",
         "Portabicicletas",
         "4"
        ],
        [
         "27",
         "Soporte para bicicletas",
         "4"
        ],
        [
         "28",
         "Portabotellas y botella",
         "4"
        ],
        [
         "29",
         "Limpiador",
         "4"
        ],
        [
         "30",
         "Guardabarros",
         "4"
        ],
        [
         "31",
         "Casco",
         "4"
        ],
        [
         "32",
         "Sistema de hidrataci�n",
         "4"
        ],
        [
         "33",
         "Luz",
         "4"
        ],
        [
         "34",
         "Candado",
         "4"
        ],
        [
         "35",
         "Cesta",
         "4"
        ],
        [
         "36",
         "Bomba",
         "4"
        ],
        [
         "37",
         "Cubierta y c�mara",
         "4"
        ]
       ],
       "datasetInfos": [],
       "dbfsResultPath": null,
       "isJsonSchema": true,
       "metadata": {
        "dataframeName": "_sqldf",
        "executionCount": 10
       },
       "overflow": false,
       "plotOptions": {
        "customPlotOptions": {},
        "displayType": "table",
        "pivotAggregation": null,
        "pivotColumns": null,
        "xColumns": null,
        "yColumns": null
       },
       "removedWidgets": [],
       "schema": [
        {
         "metadata": "{}",
         "name": "Cod_SubCategoria",
         "type": "\"string\""
        },
        {
         "metadata": "{}",
         "name": "Nombre",
         "type": "\"string\""
        },
        {
         "metadata": "{}",
         "name": "Cod_Categoria",
         "type": "\"string\""
        }
       ],
       "type": "table"
      }
     },
     "output_type": "display_data"
    }
   ],
   "source": [
    "%sql\n",
    "SELECT*From SubCategoria;"
   ]
  },
  {
   "cell_type": "code",
   "execution_count": 0,
   "metadata": {
    "application/vnd.databricks.v1+cell": {
     "cellMetadata": {
      "byteLimit": 2048000,
      "rowLimit": 10000
     },
     "inputWidgets": {},
     "nuid": "2c6243eb-c566-4461-886a-b7647f5d562c",
     "showTitle": false,
     "title": ""
    }
   },
   "outputs": [],
   "source": [
    "dfProd=spark.table(\"Categoria\")\n",
    "dfProd.write.mode(\"overwrite\").parquet(\"/mnt/julioac/proyectofinal/capaplata/Categoria.parquet\")"
   ]
  },
  {
   "cell_type": "code",
   "execution_count": 0,
   "metadata": {
    "application/vnd.databricks.v1+cell": {
     "cellMetadata": {
      "byteLimit": 2048000,
      "rowLimit": 10000
     },
     "inputWidgets": {},
     "nuid": "1a503645-34d3-4b64-894a-7199d944c416",
     "showTitle": false,
     "title": ""
    }
   },
   "outputs": [],
   "source": [
    "dfProd=spark.table(\"SubCategoria\")\n",
    "dfProd.write.mode(\"overwrite\").parquet(\"/mnt/julioac/proyectofinal/capaplata/SubCategoria.parquet\")"
   ]
  },
  {
   "cell_type": "code",
   "execution_count": 0,
   "metadata": {
    "application/vnd.databricks.v1+cell": {
     "cellMetadata": {
      "byteLimit": 2048000,
      "rowLimit": 10000
     },
     "inputWidgets": {},
     "nuid": "927f5218-8f79-4ad0-9802-861960b4cae8",
     "showTitle": false,
     "title": ""
    }
   },
   "outputs": [
    {
     "output_type": "display_data",
     "data": {
      "text/plain": [
       "\u001B[0;31m---------------------------------------------------------------------------\u001B[0m\n",
       "\u001B[0;31mExecutionError\u001B[0m                            Traceback (most recent call last)\n",
       "File \u001B[0;32m<command-3705627366707490>, line 1\u001B[0m\n",
       "\u001B[0;32m----> 1\u001B[0m \u001B[43mdbutils\u001B[49m\u001B[38;5;241;43m.\u001B[39;49m\u001B[43mfs\u001B[49m\u001B[38;5;241;43m.\u001B[39;49m\u001B[43munmount\u001B[49m\u001B[43m(\u001B[49m\u001B[38;5;124;43m\"\u001B[39;49m\u001B[38;5;124;43m/mnt/julioac\u001B[39;49m\u001B[38;5;124;43m\"\u001B[39;49m\u001B[43m)\u001B[49m\n",
       "\n",
       "File \u001B[0;32m/databricks/python_shell/dbruntime/dbutils.py:362\u001B[0m, in \u001B[0;36mDBUtils.FSHandler.prettify_exception_message.<locals>.f_with_exception_handling\u001B[0;34m(*args, **kwargs)\u001B[0m\n",
       "\u001B[1;32m    360\u001B[0m exc\u001B[38;5;241m.\u001B[39m__context__ \u001B[38;5;241m=\u001B[39m \u001B[38;5;28;01mNone\u001B[39;00m\n",
       "\u001B[1;32m    361\u001B[0m exc\u001B[38;5;241m.\u001B[39m__cause__ \u001B[38;5;241m=\u001B[39m \u001B[38;5;28;01mNone\u001B[39;00m\n",
       "\u001B[0;32m--> 362\u001B[0m \u001B[38;5;28;01mraise\u001B[39;00m exc\n",
       "\n",
       "\u001B[0;31mExecutionError\u001B[0m: An error occurred while calling o383.unmount.\n",
       ": java.rmi.RemoteException: java.lang.IllegalArgumentException: requirement failed: Directory not mounted: /mnt/julioac; nested exception is: \n",
       "\tjava.lang.IllegalArgumentException: requirement failed: Directory not mounted: /mnt/julioac\n",
       "\tat com.databricks.backend.daemon.data.client.DbfsClient.send0(DbfsClient.scala:135)\n",
       "\tat com.databricks.backend.daemon.data.client.DbfsClient.sendIdempotent(DbfsClient.scala:69)\n",
       "\tat com.databricks.backend.daemon.dbutils.DBUtilsCore.unmount(DBUtilsCore.scala:1328)\n",
       "\tat com.databricks.backend.daemon.dbutils.DBUtilsCore.$anonfun$unmount$1(DBUtilsCore.scala:1344)\n",
       "\tat com.databricks.logging.UsageLogging.$anonfun$recordOperation$1(UsageLogging.scala:571)\n",
       "\tat com.databricks.logging.UsageLogging.executeThunkAndCaptureResultTags$1(UsageLogging.scala:667)\n",
       "\tat com.databricks.logging.UsageLogging.$anonfun$recordOperationWithResultTags$4(UsageLogging.scala:685)\n",
       "\tat com.databricks.logging.UsageLogging.$anonfun$withAttributionContext$1(UsageLogging.scala:426)\n",
       "\tat scala.util.DynamicVariable.withValue(DynamicVariable.scala:62)\n",
       "\tat com.databricks.logging.AttributionContext$.withValue(AttributionContext.scala:196)\n",
       "\tat com.databricks.logging.UsageLogging.withAttributionContext(UsageLogging.scala:424)\n",
       "\tat com.databricks.logging.UsageLogging.withAttributionContext$(UsageLogging.scala:418)\n",
       "\tat com.databricks.backend.daemon.dbutils.FSUtils.withAttributionContext(DBUtilsCore.scala:71)\n",
       "\tat com.databricks.logging.UsageLogging.withAttributionTags(UsageLogging.scala:470)\n",
       "\tat com.databricks.logging.UsageLogging.withAttributionTags$(UsageLogging.scala:455)\n",
       "\tat com.databricks.backend.daemon.dbutils.FSUtils.withAttributionTags(DBUtilsCore.scala:71)\n",
       "\tat com.databricks.logging.UsageLogging.recordOperationWithResultTags(UsageLogging.scala:662)\n",
       "\tat com.databricks.logging.UsageLogging.recordOperationWithResultTags$(UsageLogging.scala:580)\n",
       "\tat com.databricks.backend.daemon.dbutils.FSUtils.recordOperationWithResultTags(DBUtilsCore.scala:71)\n",
       "\tat com.databricks.logging.UsageLogging.recordOperation(UsageLogging.scala:571)\n",
       "\tat com.databricks.logging.UsageLogging.recordOperation$(UsageLogging.scala:540)\n",
       "\tat com.databricks.backend.daemon.dbutils.FSUtils.recordOperation(DBUtilsCore.scala:71)\n",
       "\tat com.databricks.backend.daemon.dbutils.FSUtils.recordDbutilsFsOp(DBUtilsCore.scala:135)\n",
       "\tat com.databricks.backend.daemon.dbutils.DBUtilsCore.unmount(DBUtilsCore.scala:1344)\n",
       "\tat sun.reflect.NativeMethodAccessorImpl.invoke0(Native Method)\n",
       "\tat sun.reflect.NativeMethodAccessorImpl.invoke(NativeMethodAccessorImpl.java:62)\n",
       "\tat sun.reflect.DelegatingMethodAccessorImpl.invoke(DelegatingMethodAccessorImpl.java:43)\n",
       "\tat java.lang.reflect.Method.invoke(Method.java:498)\n",
       "\tat py4j.reflection.MethodInvoker.invoke(MethodInvoker.java:244)\n",
       "\tat py4j.reflection.ReflectionEngine.invoke(ReflectionEngine.java:397)\n",
       "\tat py4j.Gateway.invoke(Gateway.java:306)\n",
       "\tat py4j.commands.AbstractCommand.invokeMethod(AbstractCommand.java:132)\n",
       "\tat py4j.commands.CallCommand.execute(CallCommand.java:79)\n",
       "\tat py4j.ClientServerConnection.waitForCommands(ClientServerConnection.java:199)\n",
       "\tat py4j.ClientServerConnection.run(ClientServerConnection.java:119)\n",
       "\tat java.lang.Thread.run(Thread.java:750)\n",
       "Caused by: java.lang.IllegalArgumentException: requirement failed: Directory not mounted: /mnt/julioac\n",
       "\tat scala.Predef$.require(Predef.scala:281)\n",
       "\tat com.databricks.backend.daemon.data.server.DefaultMetadataManager.$anonfun$deleteMount$1(MetadataManager.scala:803)\n",
       "\tat com.databricks.backend.daemon.data.server.DefaultMetadataManager.$anonfun$modifyAndVerify$2(MetadataManager.scala:1085)\n",
       "\tat scala.runtime.java8.JFunction0$mcV$sp.apply(JFunction0$mcV$sp.java:23)\n",
       "\tat com.databricks.backend.daemon.data.server.DefaultMetadataManager.withRetries(MetadataManager.scala:858)\n",
       "\tat com.databricks.backend.daemon.data.server.DefaultMetadataManager.modifyAndVerify(MetadataManager.scala:1074)\n",
       "\tat com.databricks.backend.daemon.data.server.DefaultMetadataManager.deleteMount(MetadataManager.scala:807)\n",
       "\tat com.databricks.backend.daemon.data.server.handler.MountHandler.receive(MountHandler.scala:141)\n",
       "\tat com.databricks.backend.daemon.data.server.session.SessionContext.$anonfun$queryHandlers$1(SessionContext.scala:54)\n",
       "\tat com.databricks.backend.daemon.data.server.session.SessionContext.$anonfun$queryHandlers$1$adapted(SessionContext.scala:53)\n",
       "\tat scala.collection.immutable.List.foreach(List.scala:431)\n",
       "\tat com.databricks.backend.daemon.data.server.session.SessionContext.queryHandlers(SessionContext.scala:53)\n",
       "\tat com.databricks.backend.daemon.data.server.DbfsServerBackend$$anonfun$receive$4.$anonfun$applyOrElse$10(DbfsServerBackend.scala:436)\n",
       "\tat com.databricks.logging.AttributionContextTracing.$anonfun$withAttributionContext$1(AttributionContextTracing.scala:48)\n",
       "\tat com.databricks.logging.AttributionContext$.$anonfun$withValue$1(AttributionContext.scala:244)\n",
       "\tat scala.util.DynamicVariable.withValue(DynamicVariable.scala:62)\n",
       "\tat com.databricks.logging.AttributionContext$.withValue(AttributionContext.scala:240)\n",
       "\tat com.databricks.logging.AttributionContextTracing.withAttributionContext(AttributionContextTracing.scala:46)\n",
       "\tat com.databricks.logging.AttributionContextTracing.withAttributionContext$(AttributionContextTracing.scala:43)\n",
       "\tat com.databricks.rpc.ServerBackend.withAttributionContext(ServerBackend.scala:22)\n",
       "\tat com.databricks.logging.AttributionContextTracing.withAttributionTags(AttributionContextTracing.scala:95)\n",
       "\tat com.databricks.logging.AttributionContextTracing.withAttributionTags$(AttributionContextTracing.scala:76)\n",
       "\tat com.databricks.rpc.ServerBackend.withAttributionTags(ServerBackend.scala:22)\n",
       "\tat com.databricks.backend.daemon.data.server.DbfsServerBackend$$anonfun$receive$4.applyOrElse(DbfsServerBackend.scala:436)\n",
       "\tat com.databricks.backend.daemon.data.server.DbfsServerBackend$$anonfun$receive$4.applyOrElse(DbfsServerBackend.scala:335)\n",
       "\tat com.databricks.rpc.ServerBackend.$anonfun$internalReceive0$2(ServerBackend.scala:174)\n",
       "\tat com.databricks.rpc.ServerBackend$$anonfun$commonReceive$1.applyOrElse(ServerBackend.scala:200)\n",
       "\tat com.databricks.rpc.ServerBackend$$anonfun$commonReceive$1.applyOrElse(ServerBackend.scala:200)\n",
       "\tat com.databricks.rpc.ServerBackend.internalReceive0(ServerBackend.scala:171)\n",
       "\tat com.databricks.rpc.ServerBackend.$anonfun$internalReceive$1(ServerBackend.scala:147)\n",
       "\tat com.databricks.logging.UsageLogging.$anonfun$recordOperation$1(UsageLogging.scala:525)\n",
       "\tat com.databricks.logging.UsageLogging.executeThunkAndCaptureResultTags$1(UsageLogging.scala:629)\n",
       "\tat com.databricks.logging.UsageLogging.$anonfun$recordOperationWithResultTags$4(UsageLogging.scala:647)\n",
       "\tat com.databricks.logging.AttributionContextTracing.$anonfun$withAttributionContext$1(AttributionContextTracing.scala:48)\n",
       "\tat com.databricks.logging.AttributionContext$.$anonfun$withValue$1(AttributionContext.scala:244)\n",
       "\tat scala.util.DynamicVariable.withValue(DynamicVariable.scala:62)\n",
       "\tat com.databricks.logging.AttributionContext$.withValue(AttributionContext.scala:240)\n",
       "\tat com.databricks.logging.AttributionContextTracing.withAttributionContext(AttributionContextTracing.scala:46)\n",
       "\tat com.databricks.logging.AttributionContextTracing.withAttributionContext$(AttributionContextTracing.scala:43)\n",
       "\tat com.databricks.rpc.ServerBackend.withAttributionContext(ServerBackend.scala:22)\n",
       "\tat com.databricks.logging.AttributionContextTracing.withAttributionTags(AttributionContextTracing.scala:95)\n",
       "\tat com.databricks.logging.AttributionContextTracing.withAttributionTags$(AttributionContextTracing.scala:76)\n",
       "\tat com.databricks.rpc.ServerBackend.withAttributionTags(ServerBackend.scala:22)\n",
       "\tat com.databricks.logging.UsageLogging.recordOperationWithResultTags(UsageLogging.scala:624)\n",
       "\tat com.databricks.logging.UsageLogging.recordOperationWithResultTags$(UsageLogging.scala:534)\n",
       "\tat com.databricks.rpc.ServerBackend.recordOperationWithResultTags(ServerBackend.scala:22)\n",
       "\tat com.databricks.logging.UsageLogging.recordOperation(UsageLogging.scala:526)\n",
       "\tat com.databricks.logging.UsageLogging.recordOperation$(UsageLogging.scala:494)\n",
       "\tat com.databricks.rpc.ServerBackend.recordOperation(ServerBackend.scala:22)\n",
       "\tat com.databricks.rpc.ServerBackend.internalReceive(ServerBackend.scala:146)\n",
       "\tat com.databricks.rpc.JettyServer$RequestManager.handleRPC(JettyServer.scala:1021)\n",
       "\tat com.databricks.rpc.JettyServer$RequestManager.handleRequestAndRespond(JettyServer.scala:942)\n",
       "\tat com.databricks.rpc.JettyServer$RequestManager.$anonfun$handleHttp$6(JettyServer.scala:546)\n",
       "\tat com.databricks.rpc.JettyServer$RequestManager.$anonfun$handleHttp$6$adapted(JettyServer.scala:515)\n",
       "\tat com.databricks.logging.activity.ActivityContextFactory$.$anonfun$withActivityInternal$6(ActivityContextFactory.scala:546)\n",
       "\tat com.databricks.logging.AttributionContextTracing.$anonfun$withAttributionContext$1(AttributionContextTracing.scala:48)\n",
       "\tat com.databricks.logging.AttributionContext$.$anonfun$withValue$1(AttributionContext.scala:244)\n",
       "\tat scala.util.DynamicVariable.withValue(DynamicVariable.scala:62)\n",
       "\tat com.databricks.logging.AttributionContext$.withValue(AttributionContext.scala:240)\n",
       "\tat com.databricks.logging.AttributionContextTracing.withAttributionContext(AttributionContextTracing.scala:46)\n",
       "\tat com.databricks.logging.AttributionContextTracing.withAttributionContext$(AttributionContextTracing.scala:43)\n",
       "\tat com.databricks.logging.activity.ActivityContextFactory$.withAttributionContext(ActivityContextFactory.scala:57)\n",
       "\tat com.databricks.logging.activity.ActivityContextFactory$.$anonfun$withActivityInternal$3(ActivityContextFactory.scala:546)\n",
       "\tat com.databricks.context.integrity.IntegrityCheckContext$ThreadLocalStorage$.withValue(IntegrityCheckContext.scala:73)\n",
       "\tat com.databricks.logging.activity.ActivityContextFactory$.withActivityInternal(ActivityContextFactory.scala:524)\n",
       "\tat com.databricks.logging.activity.ActivityContextFactory$.withServiceRequestActivity(ActivityContextFactory.scala:178)\n",
       "\tat com.databricks.rpc.JettyServer$RequestManager.handleHttp(JettyServer.scala:515)\n",
       "\tat com.databricks.rpc.JettyServer$RequestManager.doPost(JettyServer.scala:405)\n",
       "\tat javax.servlet.http.HttpServlet.service(HttpServlet.java:665)\n",
       "\tat com.databricks.rpc.HttpServletWithPatch.service(HttpServletWithPatch.scala:33)\n",
       "\tat javax.servlet.http.HttpServlet.service(HttpServlet.java:750)\n",
       "\tat org.eclipse.jetty.servlet.ServletHolder.handle(ServletHolder.java:799)\n",
       "\tat org.eclipse.jetty.servlet.ServletHandler.doHandle(ServletHandler.java:554)\n",
       "\tat org.eclipse.jetty.server.handler.ScopedHandler.nextScope(ScopedHandler.java:190)\n",
       "\tat org.eclipse.jetty.servlet.ServletHandler.doScope(ServletHandler.java:505)\n",
       "\tat org.eclipse.jetty.server.handler.ScopedHandler.handle(ScopedHandler.java:141)\n",
       "\tat org.eclipse.jetty.server.handler.HandlerWrapper.handle(HandlerWrapper.java:127)\n",
       "\tat org.eclipse.jetty.server.Server.handle(Server.java:516)\n",
       "\tat org.eclipse.jetty.server.HttpChannel.lambda$handle$1(HttpChannel.java:487)\n",
       "\tat org.eclipse.jetty.server.HttpChannel.dispatch(HttpChannel.java:732)\n",
       "\tat org.eclipse.jetty.server.HttpChannel.handle(HttpChannel.java:479)\n",
       "\tat org.eclipse.jetty.server.HttpConnection.onFillable(HttpConnection.java:277)\n",
       "\tat org.eclipse.jetty.io.AbstractConnection$ReadCallback.succeeded(AbstractConnection.java:311)\n",
       "\tat org.eclipse.jetty.io.FillInterest.fillable(FillInterest.java:105)\n",
       "\tat org.eclipse.jetty.io.ChannelEndPoint$1.run(ChannelEndPoint.java:104)\n",
       "\tat org.eclipse.jetty.util.thread.strategy.EatWhatYouKill.runTask(EatWhatYouKill.java:338)\n",
       "\tat org.eclipse.jetty.util.thread.strategy.EatWhatYouKill.doProduce(EatWhatYouKill.java:315)\n",
       "\tat org.eclipse.jetty.util.thread.strategy.EatWhatYouKill.tryProduce(EatWhatYouKill.java:173)\n",
       "\tat org.eclipse.jetty.util.thread.strategy.EatWhatYouKill.run(EatWhatYouKill.java:131)\n",
       "\tat org.eclipse.jetty.util.thread.ReservedThreadExecutor$ReservedThread.run(ReservedThreadExecutor.java:409)\n",
       "\tat com.databricks.rpc.InstrumentedQueuedThreadPool$$anon$1.$anonfun$run$2(InstrumentedQueuedThreadPool.scala:106)\n",
       "\tat scala.runtime.java8.JFunction0$mcV$sp.apply(JFunction0$mcV$sp.java:23)\n",
       "\tat com.databricks.logging.AttributionContextTracing.$anonfun$withAttributionContext$1(AttributionContextTracing.scala:48)\n",
       "\tat com.databricks.logging.AttributionContext$.$anonfun$withValue$1(AttributionContext.scala:244)\n",
       "\tat scala.util.DynamicVariable.withValue(DynamicVariable.scala:62)\n",
       "\tat com.databricks.logging.AttributionContext$.withValue(AttributionContext.scala:240)\n",
       "\tat com.databricks.logging.AttributionContextTracing.withAttributionContext(AttributionContextTracing.scala:46)\n",
       "\tat com.databricks.logging.AttributionContextTracing.withAttributionContext$(AttributionContextTracing.scala:43)\n",
       "\tat com.databricks.rpc.InstrumentedQueuedThreadPool.withAttributionContext(InstrumentedQueuedThreadPool.scala:46)\n",
       "\tat com.databricks.rpc.InstrumentedQueuedThreadPool$$anon$1.$anonfun$run$1(InstrumentedQueuedThreadPool.scala:106)\n",
       "\tat scala.runtime.java8.JFunction0$mcV$sp.apply(JFunction0$mcV$sp.java:23)\n",
       "\tat com.databricks.instrumentation.QueuedThreadPoolInstrumenter.trackActiveThreads(QueuedThreadPoolInstrumenter.scala:150)\n",
       "\tat com.databricks.instrumentation.QueuedThreadPoolInstrumenter.trackActiveThreads$(QueuedThreadPoolInstrumenter.scala:147)\n",
       "\tat com.databricks.rpc.InstrumentedQueuedThreadPool.trackActiveThreads(InstrumentedQueuedThreadPool.scala:46)\n",
       "\tat com.databricks.rpc.InstrumentedQueuedThreadPool$$anon$1.run(InstrumentedQueuedThreadPool.scala:88)\n",
       "\tat org.eclipse.jetty.util.thread.QueuedThreadPool.runJob(QueuedThreadPool.java:883)\n",
       "\tat org.eclipse.jetty.util.thread.QueuedThreadPool$Runner.run(QueuedThreadPool.java:1034)\n",
       "\tat java.lang.Thread.run(Thread.java:840)\n"
      ]
     },
     "metadata": {
      "application/vnd.databricks.v1+output": {
       "arguments": {},
       "data": "\u001B[0;31m---------------------------------------------------------------------------\u001B[0m\n\u001B[0;31mExecutionError\u001B[0m                            Traceback (most recent call last)\nFile \u001B[0;32m<command-3705627366707490>, line 1\u001B[0m\n\u001B[0;32m----> 1\u001B[0m \u001B[43mdbutils\u001B[49m\u001B[38;5;241;43m.\u001B[39;49m\u001B[43mfs\u001B[49m\u001B[38;5;241;43m.\u001B[39;49m\u001B[43munmount\u001B[49m\u001B[43m(\u001B[49m\u001B[38;5;124;43m\"\u001B[39;49m\u001B[38;5;124;43m/mnt/julioac\u001B[39;49m\u001B[38;5;124;43m\"\u001B[39;49m\u001B[43m)\u001B[49m\n\nFile \u001B[0;32m/databricks/python_shell/dbruntime/dbutils.py:362\u001B[0m, in \u001B[0;36mDBUtils.FSHandler.prettify_exception_message.<locals>.f_with_exception_handling\u001B[0;34m(*args, **kwargs)\u001B[0m\n\u001B[1;32m    360\u001B[0m exc\u001B[38;5;241m.\u001B[39m__context__ \u001B[38;5;241m=\u001B[39m \u001B[38;5;28;01mNone\u001B[39;00m\n\u001B[1;32m    361\u001B[0m exc\u001B[38;5;241m.\u001B[39m__cause__ \u001B[38;5;241m=\u001B[39m \u001B[38;5;28;01mNone\u001B[39;00m\n\u001B[0;32m--> 362\u001B[0m \u001B[38;5;28;01mraise\u001B[39;00m exc\n\n\u001B[0;31mExecutionError\u001B[0m: An error occurred while calling o383.unmount.\n: java.rmi.RemoteException: java.lang.IllegalArgumentException: requirement failed: Directory not mounted: /mnt/julioac; nested exception is: \n\tjava.lang.IllegalArgumentException: requirement failed: Directory not mounted: /mnt/julioac\n\tat com.databricks.backend.daemon.data.client.DbfsClient.send0(DbfsClient.scala:135)\n\tat com.databricks.backend.daemon.data.client.DbfsClient.sendIdempotent(DbfsClient.scala:69)\n\tat com.databricks.backend.daemon.dbutils.DBUtilsCore.unmount(DBUtilsCore.scala:1328)\n\tat com.databricks.backend.daemon.dbutils.DBUtilsCore.$anonfun$unmount$1(DBUtilsCore.scala:1344)\n\tat com.databricks.logging.UsageLogging.$anonfun$recordOperation$1(UsageLogging.scala:571)\n\tat com.databricks.logging.UsageLogging.executeThunkAndCaptureResultTags$1(UsageLogging.scala:667)\n\tat com.databricks.logging.UsageLogging.$anonfun$recordOperationWithResultTags$4(UsageLogging.scala:685)\n\tat com.databricks.logging.UsageLogging.$anonfun$withAttributionContext$1(UsageLogging.scala:426)\n\tat scala.util.DynamicVariable.withValue(DynamicVariable.scala:62)\n\tat com.databricks.logging.AttributionContext$.withValue(AttributionContext.scala:196)\n\tat com.databricks.logging.UsageLogging.withAttributionContext(UsageLogging.scala:424)\n\tat com.databricks.logging.UsageLogging.withAttributionContext$(UsageLogging.scala:418)\n\tat com.databricks.backend.daemon.dbutils.FSUtils.withAttributionContext(DBUtilsCore.scala:71)\n\tat com.databricks.logging.UsageLogging.withAttributionTags(UsageLogging.scala:470)\n\tat com.databricks.logging.UsageLogging.withAttributionTags$(UsageLogging.scala:455)\n\tat com.databricks.backend.daemon.dbutils.FSUtils.withAttributionTags(DBUtilsCore.scala:71)\n\tat com.databricks.logging.UsageLogging.recordOperationWithResultTags(UsageLogging.scala:662)\n\tat com.databricks.logging.UsageLogging.recordOperationWithResultTags$(UsageLogging.scala:580)\n\tat com.databricks.backend.daemon.dbutils.FSUtils.recordOperationWithResultTags(DBUtilsCore.scala:71)\n\tat com.databricks.logging.UsageLogging.recordOperation(UsageLogging.scala:571)\n\tat com.databricks.logging.UsageLogging.recordOperation$(UsageLogging.scala:540)\n\tat com.databricks.backend.daemon.dbutils.FSUtils.recordOperation(DBUtilsCore.scala:71)\n\tat com.databricks.backend.daemon.dbutils.FSUtils.recordDbutilsFsOp(DBUtilsCore.scala:135)\n\tat com.databricks.backend.daemon.dbutils.DBUtilsCore.unmount(DBUtilsCore.scala:1344)\n\tat sun.reflect.NativeMethodAccessorImpl.invoke0(Native Method)\n\tat sun.reflect.NativeMethodAccessorImpl.invoke(NativeMethodAccessorImpl.java:62)\n\tat sun.reflect.DelegatingMethodAccessorImpl.invoke(DelegatingMethodAccessorImpl.java:43)\n\tat java.lang.reflect.Method.invoke(Method.java:498)\n\tat py4j.reflection.MethodInvoker.invoke(MethodInvoker.java:244)\n\tat py4j.reflection.ReflectionEngine.invoke(ReflectionEngine.java:397)\n\tat py4j.Gateway.invoke(Gateway.java:306)\n\tat py4j.commands.AbstractCommand.invokeMethod(AbstractCommand.java:132)\n\tat py4j.commands.CallCommand.execute(CallCommand.java:79)\n\tat py4j.ClientServerConnection.waitForCommands(ClientServerConnection.java:199)\n\tat py4j.ClientServerConnection.run(ClientServerConnection.java:119)\n\tat java.lang.Thread.run(Thread.java:750)\nCaused by: java.lang.IllegalArgumentException: requirement failed: Directory not mounted: /mnt/julioac\n\tat scala.Predef$.require(Predef.scala:281)\n\tat com.databricks.backend.daemon.data.server.DefaultMetadataManager.$anonfun$deleteMount$1(MetadataManager.scala:803)\n\tat com.databricks.backend.daemon.data.server.DefaultMetadataManager.$anonfun$modifyAndVerify$2(MetadataManager.scala:1085)\n\tat scala.runtime.java8.JFunction0$mcV$sp.apply(JFunction0$mcV$sp.java:23)\n\tat com.databricks.backend.daemon.data.server.DefaultMetadataManager.withRetries(MetadataManager.scala:858)\n\tat com.databricks.backend.daemon.data.server.DefaultMetadataManager.modifyAndVerify(MetadataManager.scala:1074)\n\tat com.databricks.backend.daemon.data.server.DefaultMetadataManager.deleteMount(MetadataManager.scala:807)\n\tat com.databricks.backend.daemon.data.server.handler.MountHandler.receive(MountHandler.scala:141)\n\tat com.databricks.backend.daemon.data.server.session.SessionContext.$anonfun$queryHandlers$1(SessionContext.scala:54)\n\tat com.databricks.backend.daemon.data.server.session.SessionContext.$anonfun$queryHandlers$1$adapted(SessionContext.scala:53)\n\tat scala.collection.immutable.List.foreach(List.scala:431)\n\tat com.databricks.backend.daemon.data.server.session.SessionContext.queryHandlers(SessionContext.scala:53)\n\tat com.databricks.backend.daemon.data.server.DbfsServerBackend$$anonfun$receive$4.$anonfun$applyOrElse$10(DbfsServerBackend.scala:436)\n\tat com.databricks.logging.AttributionContextTracing.$anonfun$withAttributionContext$1(AttributionContextTracing.scala:48)\n\tat com.databricks.logging.AttributionContext$.$anonfun$withValue$1(AttributionContext.scala:244)\n\tat scala.util.DynamicVariable.withValue(DynamicVariable.scala:62)\n\tat com.databricks.logging.AttributionContext$.withValue(AttributionContext.scala:240)\n\tat com.databricks.logging.AttributionContextTracing.withAttributionContext(AttributionContextTracing.scala:46)\n\tat com.databricks.logging.AttributionContextTracing.withAttributionContext$(AttributionContextTracing.scala:43)\n\tat com.databricks.rpc.ServerBackend.withAttributionContext(ServerBackend.scala:22)\n\tat com.databricks.logging.AttributionContextTracing.withAttributionTags(AttributionContextTracing.scala:95)\n\tat com.databricks.logging.AttributionContextTracing.withAttributionTags$(AttributionContextTracing.scala:76)\n\tat com.databricks.rpc.ServerBackend.withAttributionTags(ServerBackend.scala:22)\n\tat com.databricks.backend.daemon.data.server.DbfsServerBackend$$anonfun$receive$4.applyOrElse(DbfsServerBackend.scala:436)\n\tat com.databricks.backend.daemon.data.server.DbfsServerBackend$$anonfun$receive$4.applyOrElse(DbfsServerBackend.scala:335)\n\tat com.databricks.rpc.ServerBackend.$anonfun$internalReceive0$2(ServerBackend.scala:174)\n\tat com.databricks.rpc.ServerBackend$$anonfun$commonReceive$1.applyOrElse(ServerBackend.scala:200)\n\tat com.databricks.rpc.ServerBackend$$anonfun$commonReceive$1.applyOrElse(ServerBackend.scala:200)\n\tat com.databricks.rpc.ServerBackend.internalReceive0(ServerBackend.scala:171)\n\tat com.databricks.rpc.ServerBackend.$anonfun$internalReceive$1(ServerBackend.scala:147)\n\tat com.databricks.logging.UsageLogging.$anonfun$recordOperation$1(UsageLogging.scala:525)\n\tat com.databricks.logging.UsageLogging.executeThunkAndCaptureResultTags$1(UsageLogging.scala:629)\n\tat com.databricks.logging.UsageLogging.$anonfun$recordOperationWithResultTags$4(UsageLogging.scala:647)\n\tat com.databricks.logging.AttributionContextTracing.$anonfun$withAttributionContext$1(AttributionContextTracing.scala:48)\n\tat com.databricks.logging.AttributionContext$.$anonfun$withValue$1(AttributionContext.scala:244)\n\tat scala.util.DynamicVariable.withValue(DynamicVariable.scala:62)\n\tat com.databricks.logging.AttributionContext$.withValue(AttributionContext.scala:240)\n\tat com.databricks.logging.AttributionContextTracing.withAttributionContext(AttributionContextTracing.scala:46)\n\tat com.databricks.logging.AttributionContextTracing.withAttributionContext$(AttributionContextTracing.scala:43)\n\tat com.databricks.rpc.ServerBackend.withAttributionContext(ServerBackend.scala:22)\n\tat com.databricks.logging.AttributionContextTracing.withAttributionTags(AttributionContextTracing.scala:95)\n\tat com.databricks.logging.AttributionContextTracing.withAttributionTags$(AttributionContextTracing.scala:76)\n\tat com.databricks.rpc.ServerBackend.withAttributionTags(ServerBackend.scala:22)\n\tat com.databricks.logging.UsageLogging.recordOperationWithResultTags(UsageLogging.scala:624)\n\tat com.databricks.logging.UsageLogging.recordOperationWithResultTags$(UsageLogging.scala:534)\n\tat com.databricks.rpc.ServerBackend.recordOperationWithResultTags(ServerBackend.scala:22)\n\tat com.databricks.logging.UsageLogging.recordOperation(UsageLogging.scala:526)\n\tat com.databricks.logging.UsageLogging.recordOperation$(UsageLogging.scala:494)\n\tat com.databricks.rpc.ServerBackend.recordOperation(ServerBackend.scala:22)\n\tat com.databricks.rpc.ServerBackend.internalReceive(ServerBackend.scala:146)\n\tat com.databricks.rpc.JettyServer$RequestManager.handleRPC(JettyServer.scala:1021)\n\tat com.databricks.rpc.JettyServer$RequestManager.handleRequestAndRespond(JettyServer.scala:942)\n\tat com.databricks.rpc.JettyServer$RequestManager.$anonfun$handleHttp$6(JettyServer.scala:546)\n\tat com.databricks.rpc.JettyServer$RequestManager.$anonfun$handleHttp$6$adapted(JettyServer.scala:515)\n\tat com.databricks.logging.activity.ActivityContextFactory$.$anonfun$withActivityInternal$6(ActivityContextFactory.scala:546)\n\tat com.databricks.logging.AttributionContextTracing.$anonfun$withAttributionContext$1(AttributionContextTracing.scala:48)\n\tat com.databricks.logging.AttributionContext$.$anonfun$withValue$1(AttributionContext.scala:244)\n\tat scala.util.DynamicVariable.withValue(DynamicVariable.scala:62)\n\tat com.databricks.logging.AttributionContext$.withValue(AttributionContext.scala:240)\n\tat com.databricks.logging.AttributionContextTracing.withAttributionContext(AttributionContextTracing.scala:46)\n\tat com.databricks.logging.AttributionContextTracing.withAttributionContext$(AttributionContextTracing.scala:43)\n\tat com.databricks.logging.activity.ActivityContextFactory$.withAttributionContext(ActivityContextFactory.scala:57)\n\tat com.databricks.logging.activity.ActivityContextFactory$.$anonfun$withActivityInternal$3(ActivityContextFactory.scala:546)\n\tat com.databricks.context.integrity.IntegrityCheckContext$ThreadLocalStorage$.withValue(IntegrityCheckContext.scala:73)\n\tat com.databricks.logging.activity.ActivityContextFactory$.withActivityInternal(ActivityContextFactory.scala:524)\n\tat com.databricks.logging.activity.ActivityContextFactory$.withServiceRequestActivity(ActivityContextFactory.scala:178)\n\tat com.databricks.rpc.JettyServer$RequestManager.handleHttp(JettyServer.scala:515)\n\tat com.databricks.rpc.JettyServer$RequestManager.doPost(JettyServer.scala:405)\n\tat javax.servlet.http.HttpServlet.service(HttpServlet.java:665)\n\tat com.databricks.rpc.HttpServletWithPatch.service(HttpServletWithPatch.scala:33)\n\tat javax.servlet.http.HttpServlet.service(HttpServlet.java:750)\n\tat org.eclipse.jetty.servlet.ServletHolder.handle(ServletHolder.java:799)\n\tat org.eclipse.jetty.servlet.ServletHandler.doHandle(ServletHandler.java:554)\n\tat org.eclipse.jetty.server.handler.ScopedHandler.nextScope(ScopedHandler.java:190)\n\tat org.eclipse.jetty.servlet.ServletHandler.doScope(ServletHandler.java:505)\n\tat org.eclipse.jetty.server.handler.ScopedHandler.handle(ScopedHandler.java:141)\n\tat org.eclipse.jetty.server.handler.HandlerWrapper.handle(HandlerWrapper.java:127)\n\tat org.eclipse.jetty.server.Server.handle(Server.java:516)\n\tat org.eclipse.jetty.server.HttpChannel.lambda$handle$1(HttpChannel.java:487)\n\tat org.eclipse.jetty.server.HttpChannel.dispatch(HttpChannel.java:732)\n\tat org.eclipse.jetty.server.HttpChannel.handle(HttpChannel.java:479)\n\tat org.eclipse.jetty.server.HttpConnection.onFillable(HttpConnection.java:277)\n\tat org.eclipse.jetty.io.AbstractConnection$ReadCallback.succeeded(AbstractConnection.java:311)\n\tat org.eclipse.jetty.io.FillInterest.fillable(FillInterest.java:105)\n\tat org.eclipse.jetty.io.ChannelEndPoint$1.run(ChannelEndPoint.java:104)\n\tat org.eclipse.jetty.util.thread.strategy.EatWhatYouKill.runTask(EatWhatYouKill.java:338)\n\tat org.eclipse.jetty.util.thread.strategy.EatWhatYouKill.doProduce(EatWhatYouKill.java:315)\n\tat org.eclipse.jetty.util.thread.strategy.EatWhatYouKill.tryProduce(EatWhatYouKill.java:173)\n\tat org.eclipse.jetty.util.thread.strategy.EatWhatYouKill.run(EatWhatYouKill.java:131)\n\tat org.eclipse.jetty.util.thread.ReservedThreadExecutor$ReservedThread.run(ReservedThreadExecutor.java:409)\n\tat com.databricks.rpc.InstrumentedQueuedThreadPool$$anon$1.$anonfun$run$2(InstrumentedQueuedThreadPool.scala:106)\n\tat scala.runtime.java8.JFunction0$mcV$sp.apply(JFunction0$mcV$sp.java:23)\n\tat com.databricks.logging.AttributionContextTracing.$anonfun$withAttributionContext$1(AttributionContextTracing.scala:48)\n\tat com.databricks.logging.AttributionContext$.$anonfun$withValue$1(AttributionContext.scala:244)\n\tat scala.util.DynamicVariable.withValue(DynamicVariable.scala:62)\n\tat com.databricks.logging.AttributionContext$.withValue(AttributionContext.scala:240)\n\tat com.databricks.logging.AttributionContextTracing.withAttributionContext(AttributionContextTracing.scala:46)\n\tat com.databricks.logging.AttributionContextTracing.withAttributionContext$(AttributionContextTracing.scala:43)\n\tat com.databricks.rpc.InstrumentedQueuedThreadPool.withAttributionContext(InstrumentedQueuedThreadPool.scala:46)\n\tat com.databricks.rpc.InstrumentedQueuedThreadPool$$anon$1.$anonfun$run$1(InstrumentedQueuedThreadPool.scala:106)\n\tat scala.runtime.java8.JFunction0$mcV$sp.apply(JFunction0$mcV$sp.java:23)\n\tat com.databricks.instrumentation.QueuedThreadPoolInstrumenter.trackActiveThreads(QueuedThreadPoolInstrumenter.scala:150)\n\tat com.databricks.instrumentation.QueuedThreadPoolInstrumenter.trackActiveThreads$(QueuedThreadPoolInstrumenter.scala:147)\n\tat com.databricks.rpc.InstrumentedQueuedThreadPool.trackActiveThreads(InstrumentedQueuedThreadPool.scala:46)\n\tat com.databricks.rpc.InstrumentedQueuedThreadPool$$anon$1.run(InstrumentedQueuedThreadPool.scala:88)\n\tat org.eclipse.jetty.util.thread.QueuedThreadPool.runJob(QueuedThreadPool.java:883)\n\tat org.eclipse.jetty.util.thread.QueuedThreadPool$Runner.run(QueuedThreadPool.java:1034)\n\tat java.lang.Thread.run(Thread.java:840)\n",
       "errorSummary": "java.rmi.RemoteException: java.lang.IllegalArgumentException: requirement failed: Directory not mounted: /mnt/julioac; nested exception is: ",
       "errorTraceType": "ansi",
       "metadata": {},
       "type": "ipynbError"
      }
     },
     "output_type": "display_data"
    }
   ],
   "source": [
    "dbutils.fs.unmount(\"/mnt/julioac\")"
   ]
  }
 ],
 "metadata": {
  "application/vnd.databricks.v1+notebook": {
   "dashboards": [],
   "environmentMetadata": null,
   "language": "python",
   "notebookMetadata": {
    "mostRecentlyExecutedCommandWithImplicitDF": {
     "commandId": 3705627366707483,
     "dataframes": [
      "_sqldf"
     ]
    },
    "pythonIndentUnit": 4
   },
   "notebookName": "Transferir datos de Capa Bronce hacia Capa Plata",
   "widgets": {}
  }
 },
 "nbformat": 4,
 "nbformat_minor": 0
}
